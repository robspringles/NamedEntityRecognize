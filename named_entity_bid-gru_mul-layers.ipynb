{
 "cells": [
  {
   "cell_type": "code",
   "execution_count": 1,
   "metadata": {},
   "outputs": [],
   "source": [
    "import numpy as np\n",
    "import mxnet as mx\n",
    "import os\n",
    "\n",
    "from mxnet import autograd, gluon, nd\n",
    "from mxnet.gluon import nn, rnn, Block\n",
    "from mxnet.contrib import text\n",
    "from sklearn import metrics\n",
    "\n",
    "from io import open\n",
    "import collections\n",
    "import datetime\n",
    "\n",
    "import matplotlib.pyplot as plt\n",
    "%matplotlib inline"
   ]
  },
  {
   "cell_type": "code",
   "execution_count": 2,
   "metadata": {},
   "outputs": [],
   "source": [
    "PAD = '<PAD>'"
   ]
  },
  {
   "cell_type": "code",
   "execution_count": 3,
   "metadata": {},
   "outputs": [],
   "source": [
    "epochs = 5\n",
    "hidden_dim = 400\n",
    "drop_prob = 0.2\n",
    "batch_size = 256\n",
    "learning_rate = 0.01\n",
    "num_layers = 2\n",
    "dense_hidden_dim = 300\n",
    "bidirectional = True\n",
    "\n",
    "max_seq_len = 30\n",
    "ctx = mx.gpu()"
   ]
  },
  {
   "cell_type": "code",
   "execution_count": 4,
   "metadata": {},
   "outputs": [],
   "source": [
    "def read_data(max_seq_len):\n",
    "    input_tokens = []   # 记录编码器输入 X 的所有词，包含重复\n",
    "    output_tokens = []  # 记录解码器输出 Y 的所有符号，包含重复\n",
    "    input_seqs = []  # 列表中装的列表，里面的每个列表代表一条输入，填充或截断好了的\n",
    "    output_seqs = []  # 同input_seqs\n",
    "    \n",
    "    with open(\"../data_for_seq2seq/re_cut_lines_word.txt\", 'r') as fx, open(\"../data_for_seq2seq/re_cut_lines_label.txt\", 'r') as fy:\n",
    "        word_lines = fx.readlines()\n",
    "        label_lines = fy.readlines()\n",
    "        \n",
    "        for word_line, lable_line in zip(word_lines, label_lines):\n",
    "            \n",
    "            input_seq = word_line.strip()\n",
    "            output_seq = lable_line.strip()\n",
    "            \n",
    "            cur_input_tokens = input_seq.split(' ')\n",
    "            cur_output_tokens = output_seq.split(' ')\n",
    "            \n",
    "            if len(cur_input_tokens) < max_seq_len or len(cur_output_tokens) < max_seq_len:\n",
    "                input_tokens.extend(cur_input_tokens)\n",
    "                output_tokens.extend(cur_output_tokens)\n",
    "                \n",
    "                # 添加 PAD 符号使每个序列等长，长度为 max_seq_len\n",
    "                while len(cur_input_tokens) < max_seq_len:\n",
    "                    cur_input_tokens.append(PAD)\n",
    "                    # 把输出也填充到了最大长度\n",
    "                    cur_output_tokens.append(PAD)\n",
    "                    \n",
    "                input_seqs.append(cur_input_tokens)                            \n",
    "                output_seqs.append(cur_output_tokens)\n",
    "                \n",
    "            else:\n",
    "                cur_input_tokens = cur_input_tokens[0: max_seq_len]\n",
    "                cur_output_tokens = cur_output_tokens[0: max_seq_len]\n",
    "                \n",
    "                input_tokens.extend(cur_input_tokens)\n",
    "                input_seqs.append(cur_input_tokens)\n",
    "                \n",
    "                output_tokens.extend(cur_output_tokens)\n",
    "                output_seqs.append(cur_output_tokens)\n",
    "                \n",
    "        fr_vocab = text.vocab.Vocabulary(collections.Counter(input_tokens), reserved_tokens=[PAD])\n",
    "        en_vocab = text.vocab.Vocabulary(collections.Counter(output_tokens), reserved_tokens=[PAD])\n",
    "    \n",
    "    return fr_vocab, en_vocab, input_seqs, output_seqs"
   ]
  },
  {
   "cell_type": "code",
   "execution_count": 5,
   "metadata": {},
   "outputs": [],
   "source": [
    "input_vocab, output_vocab, input_seqs, output_seqs = read_data(max_seq_len)"
   ]
  },
  {
   "cell_type": "code",
   "execution_count": 6,
   "metadata": {},
   "outputs": [
    {
     "data": {
      "text/plain": [
       "215541"
      ]
     },
     "execution_count": 6,
     "metadata": {},
     "output_type": "execute_result"
    }
   ],
   "source": [
    "len(input_vocab)"
   ]
  },
  {
   "cell_type": "code",
   "execution_count": 7,
   "metadata": {},
   "outputs": [
    {
     "data": {
      "text/plain": [
       "['<unk>', '<PAD>', 'N', 'C', 'B', 'E', 'I', '']"
      ]
     },
     "execution_count": 7,
     "metadata": {},
     "output_type": "execute_result"
    }
   ],
   "source": [
    "output_vocab.idx_to_token"
   ]
  },
  {
   "cell_type": "code",
   "execution_count": 8,
   "metadata": {},
   "outputs": [],
   "source": [
    "# X = nd.zeros((len(input_seqs), max_seq_len))\n",
    "# Y = nd.zeros((len(output_seqs), max_seq_len))\n",
    "\n",
    "# for i in range(len(input_seqs)):\n",
    "#     X[i] = nd.array(input_vocab.to_indices(input_seqs[i]))\n",
    "#     Y[i] = nd.array(output_vocab.to_indices(output_seqs[i]))\n",
    "# np.save(\"../data_for_mul-rnn/X.npy\", X.asnumpy())\n",
    "# np.save(\"../data_for_mul-rnn/Y.npy\", Y.asnumpy())"
   ]
  },
  {
   "cell_type": "code",
   "execution_count": 9,
   "metadata": {},
   "outputs": [],
   "source": [
    "# Y[0]"
   ]
  },
  {
   "cell_type": "code",
   "execution_count": 10,
   "metadata": {},
   "outputs": [
    {
     "name": "stdout",
     "output_type": "stream",
     "text": [
      "Loading...\n",
      "End\n"
     ]
    }
   ],
   "source": [
    "if os.path.exists(\"../data_for_mul-rnn/X.npy\") and  os.path.exists(\"../data_for_mul-rnn/Y.npy\"):\n",
    "    print(\"Loading...\")\n",
    "    X = np.load(\"../data_for_mul-rnn/X.npy\")\n",
    "    Y = np.load(\"../data_for_mul-rnn/Y.npy\")\n",
    "    print(\"End\")\n",
    "else:\n",
    "    print(\"Converting...\")\n",
    "    X = nd.zeros((len(input_seqs), max_seq_len))\n",
    "    Y = nd.zeros((len(output_seqs), max_seq_len))\n",
    "\n",
    "    for i in range(len(input_seqs)):\n",
    "        X[i] = nd.array(input_vocab.to_indices(input_seqs[i]))\n",
    "        Y[i] = nd.array(output_vocab.to_indices(output_seqs[i]))\n",
    "    np.save(\"../data_for_mul-rnn/X.npy\", X.asnumpy())\n",
    "    np.save(\"../data_for_mul-rnn/Y.npy\", Y.asnumpy())\n",
    "    print(\"End\")"
   ]
  },
  {
   "cell_type": "code",
   "execution_count": 11,
   "metadata": {},
   "outputs": [
    {
     "data": {
      "text/plain": [
       "(50,)"
      ]
     },
     "execution_count": 11,
     "metadata": {},
     "output_type": "execute_result"
    }
   ],
   "source": [
    "Y[0].shape"
   ]
  },
  {
   "cell_type": "code",
   "execution_count": 12,
   "metadata": {},
   "outputs": [
    {
     "data": {
      "text/plain": [
       "(50,)"
      ]
     },
     "execution_count": 12,
     "metadata": {},
     "output_type": "execute_result"
    }
   ],
   "source": [
    "X[0].shape"
   ]
  },
  {
   "cell_type": "code",
   "execution_count": 13,
   "metadata": {},
   "outputs": [
    {
     "data": {
      "text/plain": [
       "(((386560, 50), (386560, 50)), ((42952, 50), (42952, 50)))"
      ]
     },
     "execution_count": 13,
     "metadata": {},
     "output_type": "execute_result"
    }
   ],
   "source": [
    "from sklearn.model_selection import train_test_split\n",
    "X_train, X_test, Y_train, Y_test = train_test_split(X, Y, test_size=0.1, random_state=33)\n",
    "((X_train.shape, Y_train.shape), (X_test.shape, Y_test.shape))"
   ]
  },
  {
   "cell_type": "code",
   "execution_count": 14,
   "metadata": {},
   "outputs": [],
   "source": [
    "dataset_train = gluon.data.ArrayDataset(nd.array(X_train, ctx=ctx), nd.array(Y_train, ctx=ctx))\n",
    "data_iter_train = gluon.data.DataLoader(dataset_train, batch_size, shuffle=True, last_batch='rollover')\n",
    "\n",
    "dataset_test = gluon.data.ArrayDataset(nd.array(X_test, ctx=ctx), nd.array(Y_test, ctx=ctx))\n",
    "data_iter_test = gluon.data.DataLoader(dataset_test, batch_size, shuffle=True, last_batch='rollover')"
   ]
  },
  {
   "cell_type": "code",
   "execution_count": 15,
   "metadata": {},
   "outputs": [],
   "source": [
    "del X_train, X_test, Y_train, Y_test"
   ]
  },
  {
   "cell_type": "code",
   "execution_count": 16,
   "metadata": {},
   "outputs": [],
   "source": [
    "# embedding = text.embedding.create('fasttext', pretrained_file_name='wiki.zh.vec', vocabulary=input_vocab)"
   ]
  },
  {
   "cell_type": "code",
   "execution_count": 17,
   "metadata": {},
   "outputs": [],
   "source": [
    "# print(len(input_vocab))\n",
    "# print(len(embedding))\n",
    "# print(embedding.to_indices([PAD, '中国']))\n",
    "# print(input_vocab.to_indices([PAD, '中国']))"
   ]
  },
  {
   "cell_type": "markdown",
   "metadata": {},
   "source": [
    "## 模型定义"
   ]
  },
  {
   "cell_type": "code",
   "execution_count": 18,
   "metadata": {},
   "outputs": [],
   "source": [
    "class Mul_Layers_Bid_GRU(Block):\n",
    "    def __init__(self, hidden_dim, input_dim, dense_hidden_dim, output_dim, num_layers, drop_prob):\n",
    "        super(Mul_Layers_Bid_GRU, self).__init__()\n",
    "        \n",
    "        self.hidden_dim = hidden_dim\n",
    "        self.input_dim = input_dim\n",
    "        self.dense_hidden_dim = dense_hidden_dim\n",
    "        self.output_dim = output_dim\n",
    "        self.num_layers = num_layers\n",
    "        self.drop_prob = drop_prob\n",
    "        \n",
    "        self.embedding = nn.Embedding(input_dim, hidden_dim)\n",
    "        \n",
    "        self.dropout = nn.Dropout(drop_prob)\n",
    "        self.rnn = rnn.GRU(hidden_dim, num_layers, dropout=drop_prob, bidirectional=True)\n",
    "        \n",
    "        self.dense_hidden = nn.Dense(dense_hidden_dim, activation='relu', flatten=False)\n",
    "        self.out = nn.Dense(output_dim, flatten=False)\n",
    "        \n",
    "    def forward(self, inputs, states):\n",
    "        # states 是一个列表\n",
    "        # inputs尺寸: (batch_size, num_steps)，emb尺寸: (num_steps, batch_size, 300)\n",
    "        batch_size = inputs.shape[0]\n",
    "        num_steps = inputs.shape[1]\n",
    "        \n",
    "        emb = self.embedding(inputs).swapaxes(0, 1)\n",
    "        emb = self.dropout(emb)\n",
    "        \n",
    "        # hidden_output 尺寸：(num_steps, batch_size, 2*hidden_dim)\n",
    "        # state 尺寸: (2*num_layers, batch_size, hidden_dim)      \n",
    "        hidden_output, bid_state = self.rnn(emb, states[0])\n",
    "        \n",
    "        # hidden_output shape: (num_steps, batch_size, 2*hidden_dim)\n",
    "        # 转变为 （batch_size, num_steps, 2*hidden_dim)\n",
    "        hidden_output = hidden_output.swapaxes(0, 1)\n",
    "        hidden_output = self.dropout(hidden_output)\n",
    "        \n",
    "        # dense_hidden_output shape: (batch_size, num_steps, dense_hidden_dim)\n",
    "        dense_hidden_output = self.dense_hidden(hidden_output)\n",
    "        dense_hidden_output = self.dropout(dense_hidden_output)\n",
    "               \n",
    "        # output shape: (batch_size, num_steps, output_dim)\n",
    "        output = self.out(dense_hidden_output)\n",
    "        \n",
    "        return output\n",
    "    \n",
    "    def begin_state(self, *args, **kwargs):\n",
    "        return self.rnn.begin_state(*args, **kwargs)       "
   ]
  },
  {
   "cell_type": "code",
   "execution_count": 19,
   "metadata": {},
   "outputs": [],
   "source": [
    "dic_value = nd.array(list(output_vocab.token_to_idx.values()), ctx=ctx)"
   ]
  },
  {
   "cell_type": "code",
   "execution_count": 20,
   "metadata": {},
   "outputs": [],
   "source": [
    "label_one_hot = nd.one_hot(dic_value, dic_value.shape[0])"
   ]
  },
  {
   "cell_type": "code",
   "execution_count": 21,
   "metadata": {},
   "outputs": [
    {
     "data": {
      "text/plain": [
       "\n",
       "[[1. 0. 0. 0. 0. 0. 0. 0.]\n",
       " [0. 1. 0. 0. 0. 0. 0. 0.]\n",
       " [0. 0. 1. 0. 0. 0. 0. 0.]\n",
       " [0. 0. 0. 1. 0. 0. 0. 0.]\n",
       " [0. 0. 0. 0. 1. 0. 0. 0.]\n",
       " [0. 0. 0. 0. 0. 1. 0. 0.]\n",
       " [0. 0. 0. 0. 0. 0. 1. 0.]\n",
       " [0. 0. 0. 0. 0. 0. 0. 1.]]\n",
       "<NDArray 8x8 @gpu(0)>"
      ]
     },
     "execution_count": 21,
     "metadata": {},
     "output_type": "execute_result"
    }
   ],
   "source": [
    "label_one_hot"
   ]
  },
  {
   "cell_type": "code",
   "execution_count": 22,
   "metadata": {},
   "outputs": [
    {
     "data": {
      "text/plain": [
       "\n",
       "[[1. 0. 0. 0. 0. 0. 0. 0.]\n",
       " [0. 0. 1. 0. 0. 0. 0. 0.]\n",
       " [0. 0. 0. 0. 1. 0. 0. 0.]]\n",
       "<NDArray 3x8 @gpu(0)>"
      ]
     },
     "execution_count": 22,
     "metadata": {},
     "output_type": "execute_result"
    }
   ],
   "source": [
    "nd.take(label_one_hot, nd.array([0, 2, 4], ctx=ctx))"
   ]
  },
  {
   "cell_type": "code",
   "execution_count": 23,
   "metadata": {},
   "outputs": [
    {
     "data": {
      "text/plain": [
       "['<unk>', '<PAD>', 'N', 'C', 'B', 'E', 'I', '']"
      ]
     },
     "execution_count": 23,
     "metadata": {},
     "output_type": "execute_result"
    }
   ],
   "source": [
    "output_vocab.idx_to_token"
   ]
  },
  {
   "cell_type": "code",
   "execution_count": 24,
   "metadata": {},
   "outputs": [],
   "source": [
    "def cal_scores(y_hat, label):\n",
    "    \"\"\"y_hat 与 label 都为一维向量\"\"\"\n",
    "    p = metrics.precision_score(label, y_hat, average=None)\n",
    "    r = metrics.recall_score(label, y_hat, average=None)\n",
    "    f1 = metrics.recall_score(label, y_hat, average=None)\n",
    "    return p, r, f1"
   ]
  },
  {
   "cell_type": "code",
   "execution_count": 25,
   "metadata": {},
   "outputs": [],
   "source": [
    "def train(model, max_seq_len, label_one_hot, output_vocab, learning_rate, ctx):\n",
    "    # 对于三个网络，分别初始化它们的模型参数并定义它们的优化器。\n",
    "    model.collect_params().initialize(mx.init.Xavier(), ctx=ctx)\n",
    "    \n",
    "    optimizer = gluon.Trainer(model.collect_params(), 'adam',\n",
    "                                      {'learning_rate': learning_rate})\n",
    "\n",
    "    softmax_cross_entropy = gluon.loss.SoftmaxCrossEntropyLoss(sparse_label=False)\n",
    "\n",
    "    prev_time = datetime.datetime.now()\n",
    "    \n",
    "    total_loss = []\n",
    "    total_p = []\n",
    "    total_r = []\n",
    "    total_f1 = []\n",
    "    \n",
    "    for epoch in range(0, epochs):\n",
    "        epoch_loss = 0.0\n",
    "        preds = []\n",
    "        trues = []\n",
    "        batch_idx = 0\n",
    "        for x, y in data_iter_train:\n",
    "            with autograd.record():\n",
    "                batch_loss = nd.array([0], ctx=ctx)\n",
    "                state = model.begin_state(\n",
    "                    func=mx.nd.zeros, batch_size=batch_size, ctx=ctx)\n",
    "                \n",
    "                # outputs shape: (batch_size, num_step, output_dim)\n",
    "                outputs = model(x, state)\n",
    "                # label shape: (batch_size, num_step, output_dim)\n",
    "                label = nd.take(label_one_hot, y)\n",
    "                batch_loss = nd.mean(softmax_cross_entropy(outputs, label))\n",
    "                \n",
    "            batch_loss.backward()\n",
    "            optimizer.step(batch_size)\n",
    "            \n",
    "            epoch_loss += batch_loss.asscalar()       \n",
    "            \n",
    "            # pred_outputs shape: (batch_size, num_step)\n",
    "            pred_outputs = nd.argmax(nd.softmax(outputs, axis=2), axis=2)    \n",
    "            \n",
    "            preds.append(pred_outputs)\n",
    "            trues.append(y)\n",
    "            \n",
    "            # print(pred_outputs.shape)           \n",
    "            \n",
    "            if batch_idx % 500 == 0:\n",
    "#                 batch_p, batch_r, batch_f1 = cal_scores(pred_outputs.reshape((-1,)).asnumpy(), y.reshape((-1,)).asnumpy())\n",
    "                print(\"epoch: {0} , batch: {1}, batch_loss: {2}\".format(epoch, batch_idx, batch_loss.asscalar()))\n",
    "#                 print(\"batch_p: {0}\".format(batch_p))\n",
    "#                 print(\"batch_r: {0}\".format(batch_r))\n",
    "#                 print(\"batch_f1: {0}\".format(batch_f1))\n",
    "                for idx in range(2): \n",
    "                    true_idx = [int(x) for x in list(y[idx].asnumpy())]\n",
    "                    pred_idx = [int(x) for x in list(pred_outputs[idx].asnumpy())]\n",
    "                    \n",
    "                    true_label = output_vocab.to_tokens(true_idx)\n",
    "                    pred_label = output_vocab.to_tokens(pred_idx)\n",
    "                    \n",
    "                    print(\"Sapmle {0} :\".format(idx))\n",
    "                    print(\"True label : {0}\".format(true_label))\n",
    "                    print(\"Pred label : {0}\".format(pred_label))\n",
    "            batch_idx += 1\n",
    "            \n",
    "        \n",
    "        epoch_loss = epoch_loss / batch_idx\n",
    "        \n",
    "        cal_score_pred = nd.concat(*preds, dim=0).reshape((-1,)).asnumpy()\n",
    "        cal_score_true = nd.concat(*trues, dim=0).reshape((-1,)).asnumpy()\n",
    "        \n",
    "        epoch_p, epoch_r, epoch_f1 = cal_scores(cal_score_pred, cal_score_true)\n",
    "        \n",
    "        total_loss.append(epoch_loss)\n",
    "        total_p.append(epoch_p)\n",
    "        total_r.append(epoch_r)\n",
    "        total_f1.append(epoch_f1)\n",
    "        \n",
    "        print(\"epoch: {0} , epoch_loss: {1}\".format(epoch, epoch_loss))\n",
    "        print(\"epoch_p: {0}\".format(epoch_p))\n",
    "        print(\"epoch_r: {0}\".format(epoch_r))\n",
    "        print(\"epoch_f1: {0}\".format(epoch_f1))\n",
    "        print(\"-----------------------------------------------------\")\n",
    "    \n",
    "    plt.plot(range(epochs), total_loss)\n",
    "    plt.show()\n",
    "    \n",
    "            "
   ]
  },
  {
   "cell_type": "code",
   "execution_count": 26,
   "metadata": {},
   "outputs": [],
   "source": [
    "model = Mul_Layers_Bid_GRU(hidden_dim, len(input_vocab), dense_hidden_dim, len(output_vocab), num_layers, drop_prob)"
   ]
  },
  {
   "cell_type": "code",
   "execution_count": 27,
   "metadata": {
    "scrolled": true
   },
   "outputs": [
    {
     "name": "stdout",
     "output_type": "stream",
     "text": [
      "epoch: 0 , batch: 0, batch_loss: 2.0801637172698975\n",
      "Sapmle 0 :\n",
      "True label : ['C', 'N', 'C', 'N', 'N', 'N', 'N', 'N', 'N', 'C', 'N', 'N', 'N', 'N', 'B', 'E', 'N', 'N', 'N', 'N', 'N', 'N', 'N', 'N', 'N', 'N', 'N', 'N', 'N', 'N', 'N', 'N', 'N', 'N', 'N', 'N', 'N', 'N', 'N', 'N', 'N', 'N', '<PAD>', '<PAD>', '<PAD>', '<PAD>', '<PAD>', '<PAD>', '<PAD>', '<PAD>']\n",
      "Pred label : ['', '<unk>', '', '', '<unk>', '<unk>', '', '', 'I', '<unk>', '', '', 'E', '<PAD>', '<unk>', '', '', '', 'N', 'N', '', 'I', '', '<PAD>', '<unk>', '', '', '', '', '', 'C', '', '<unk>', '', '', '', 'E', 'E', '', '<unk>', '', 'E', 'I', '<unk>', '<unk>', '<unk>', '<unk>', '<unk>', 'N', 'E']\n",
      "Sapmle 1 :\n",
      "True label : ['C', 'N', 'N', 'N', 'N', 'N', 'N', 'N', 'N', 'N', 'N', 'E', 'N', 'N', 'N', 'N', 'N', 'N', 'N', 'N', 'N', 'N', 'N', 'N', 'N', 'N', 'N', 'N', 'N', 'N', 'N', 'N', 'N', 'N', 'N', 'N', 'N', 'N', 'N', '<PAD>', '<PAD>', '<PAD>', '<PAD>', '<PAD>', '<PAD>', '<PAD>', '<PAD>', '<PAD>', '<PAD>', '<PAD>']\n",
      "Pred label : ['', '<unk>', '', 'C', '', '<unk>', '<unk>', '<PAD>', '', 'E', '<unk>', '<PAD>', '<unk>', '', '', '', 'E', '<PAD>', 'E', 'N', '<unk>', '', 'E', '', '', '<unk>', '<unk>', '<unk>', '<unk>', '', '<unk>', '', '', '<unk>', '<unk>', '<unk>', '', '<unk>', '<unk>', '<unk>', '<unk>', 'E', '<unk>', '<unk>', 'N', 'N', '<unk>', '<unk>', '<unk>', '<unk>']\n",
      "epoch: 0 , batch: 500, batch_loss: 0.4356721043586731\n",
      "Sapmle 0 :\n",
      "True label : ['C', 'C', 'N', 'N', 'N', 'N', 'N', 'N', 'N', 'N', 'N', 'N', 'N', 'C', 'N', 'N', 'N', 'N', 'N', 'C', 'N', 'N', 'N', 'N', 'N', 'N', 'N', 'N', 'N', 'N', 'N', 'N', 'N', 'N', 'N', 'N', 'N', 'B', 'E', 'N', 'N', 'N', 'N', 'N', 'N', 'N', 'N', 'N', 'N', 'C']\n",
      "Pred label : ['N', 'N', 'N', 'N', 'N', 'N', 'N', 'N', 'N', 'N', 'N', 'N', 'N', 'N', 'N', 'N', 'N', 'N', 'N', 'N', 'N', 'N', 'N', 'N', 'N', 'N', 'N', 'N', 'N', 'N', 'N', 'N', 'N', 'N', 'N', 'N', 'N', 'N', 'N', 'N', 'N', 'N', 'N', 'N', 'N', 'N', 'N', 'N', 'N', 'N']\n",
      "Sapmle 1 :\n",
      "True label : ['C', 'N', '<PAD>', '<PAD>', '<PAD>', '<PAD>', '<PAD>', '<PAD>', '<PAD>', '<PAD>', '<PAD>', '<PAD>', '<PAD>', '<PAD>', '<PAD>', '<PAD>', '<PAD>', '<PAD>', '<PAD>', '<PAD>', '<PAD>', '<PAD>', '<PAD>', '<PAD>', '<PAD>', '<PAD>', '<PAD>', '<PAD>', '<PAD>', '<PAD>', '<PAD>', '<PAD>', '<PAD>', '<PAD>', '<PAD>', '<PAD>', '<PAD>', '<PAD>', '<PAD>', '<PAD>', '<PAD>', '<PAD>', '<PAD>', '<PAD>', '<PAD>', '<PAD>', '<PAD>', '<PAD>', '<PAD>', '<PAD>']\n",
      "Pred label : ['N', 'N', '<PAD>', '<PAD>', '<PAD>', '<PAD>', '<PAD>', '<PAD>', '<PAD>', '<PAD>', '<PAD>', '<PAD>', '<PAD>', '<PAD>', '<PAD>', '<PAD>', '<PAD>', '<PAD>', '<PAD>', '<PAD>', '<PAD>', '<PAD>', '<PAD>', '<PAD>', '<PAD>', '<PAD>', '<PAD>', '<PAD>', '<PAD>', '<PAD>', '<PAD>', '<PAD>', '<PAD>', '<PAD>', '<PAD>', '<PAD>', '<PAD>', '<PAD>', '<PAD>', '<PAD>', '<PAD>', '<PAD>', '<PAD>', '<PAD>', '<PAD>', '<PAD>', '<PAD>', '<PAD>', '<PAD>', '<PAD>']\n",
      "epoch: 0 , batch: 1000, batch_loss: 0.39992672204971313\n",
      "Sapmle 0 :\n",
      "True label : ['N', 'B', 'E', 'N', 'N', 'N', 'N', 'N', 'N', 'N', 'B', 'E', 'N', 'N', 'N', 'N', 'N', 'N', 'N', 'N', 'N', 'C', 'N', 'N', 'N', 'N', 'N', 'C', 'N', 'N', 'B', 'E', 'N', 'N', 'C', 'N', 'N', 'N', 'N', 'N', 'N', 'N', 'N', 'N', 'N', 'N', 'N', 'N', 'N', 'C']\n",
      "Pred label : ['N', 'N', 'N', 'N', 'N', 'N', 'N', 'N', 'N', 'N', 'N', 'N', 'N', 'N', 'N', 'N', 'N', 'N', 'N', 'N', 'N', 'N', 'N', 'N', 'N', 'N', 'N', 'C', 'N', 'N', 'N', 'N', 'N', 'N', 'N', 'N', 'N', 'N', 'N', 'N', 'N', 'N', 'N', 'N', 'N', 'N', 'N', 'N', 'N', 'N']\n",
      "Sapmle 1 :\n",
      "True label : ['N', 'C', 'C', 'N', 'C', 'N', 'N', 'N', 'N', 'N', 'N', 'N', 'N', 'N', 'N', 'N', 'N', 'N', 'N', 'N', 'N', 'N', 'N', 'N', 'N', 'N', 'N', 'N', 'N', 'N', 'N', 'N', 'N', 'N', 'N', 'N', 'N', 'N', 'B', 'E', 'I', 'N', 'N', 'N', 'N', 'B', 'I', 'I', 'E', 'N']\n",
      "Pred label : ['N', 'C', 'N', 'N', 'N', 'N', 'N', 'N', 'N', 'N', 'N', 'N', 'N', 'N', 'N', 'N', 'N', 'N', 'N', 'N', 'N', 'N', 'N', 'N', 'N', 'N', 'N', 'N', 'N', 'N', 'N', 'N', 'N', 'N', 'N', 'N', 'N', 'N', 'N', 'N', 'N', 'N', 'N', 'N', 'N', 'N', 'N', 'N', 'N', 'N']\n",
      "epoch: 0 , batch: 1500, batch_loss: 0.3234182894229889\n",
      "Sapmle 0 :\n",
      "True label : ['N', 'N', 'B', 'N', 'N', 'N', 'B', 'E', 'N', 'N', 'N', 'N', 'N', 'N', 'N', 'N', 'N', 'N', 'N', 'N', 'N', 'N', 'N', 'N', 'N', 'B', 'N', 'E', 'N', 'N', 'N', 'N', 'N', 'E', 'N', 'N', 'N', 'N', 'N', 'N', 'B', 'E', 'N', 'N', 'N', 'N', 'B', 'I', 'E', 'B']\n",
      "Pred label : ['N', 'N', 'C', 'N', 'N', 'N', 'C', 'N', 'N', 'N', 'N', 'N', 'N', 'N', 'N', 'N', 'N', 'N', 'N', 'N', 'N', 'N', 'N', 'N', 'N', 'N', 'N', 'N', 'N', 'N', 'N', 'N', 'N', 'N', 'N', 'N', 'N', 'C', 'N', 'N', 'C', 'N', 'N', 'N', 'N', 'N', 'N', 'N', 'N', 'N']\n",
      "Sapmle 1 :\n",
      "True label : ['N', 'N', 'N', 'N', 'N', 'N', 'N', 'N', 'N', 'N', 'N', 'N', 'N', 'N', 'N', 'N', 'N', 'N', 'N', 'B', 'E', 'C', 'N', 'N', 'N', 'N', 'N', 'N', 'N', 'N', 'N', 'N', 'N', 'C', 'N', 'N', 'N', 'N', 'N', 'N', 'N', 'N', 'C', 'B', 'E', 'B', 'E', 'N', 'N', 'N']\n",
      "Pred label : ['N', 'N', 'N', 'N', 'N', 'N', 'N', 'N', 'N', 'N', 'N', 'N', 'N', 'N', 'N', 'N', 'N', 'N', 'N', 'N', 'N', 'C', 'N', 'N', 'N', 'N', 'N', 'N', 'N', 'N', 'N', 'N', 'N', 'C', 'N', 'N', 'N', 'N', 'N', 'N', 'N', 'N', 'N', 'N', 'N', 'C', 'N', 'N', 'N', 'N']\n"
     ]
    },
    {
     "name": "stderr",
     "output_type": "stream",
     "text": [
      "c:\\developtool\\python\\lib\\site-packages\\sklearn\\metrics\\classification.py:1137: UndefinedMetricWarning: Recall is ill-defined and being set to 0.0 in labels with no true samples.\n",
      "  'recall', 'true', average, warn_for)\n"
     ]
    },
    {
     "name": "stdout",
     "output_type": "stream",
     "text": [
      "epoch: 0 , epoch_loss: 0.4229380942535716\n",
      "epoch_p: [0.         0.99541995 0.8377669  0.52707297 0.23717097 0.12206409\n",
      " 0.03227771 0.        ]\n",
      "epoch_r: [0.00000000e+00 9.95905007e-01 9.89373188e-01 2.47643383e-01\n",
      " 4.00598802e-03 2.15136499e-03 3.05148371e-04 0.00000000e+00]\n",
      "epoch_f1: [0.00000000e+00 9.95905007e-01 9.89373188e-01 2.47643383e-01\n",
      " 4.00598802e-03 2.15136499e-03 3.05148371e-04 0.00000000e+00]\n",
      "-----------------------------------------------------\n",
      "epoch: 1 , batch: 0, batch_loss: 0.3241179585456848\n",
      "Sapmle 0 :\n",
      "True label : ['N', 'N', 'N', 'B', 'E', 'N', 'N', 'N', 'N', 'N', 'C', 'N', 'N', 'N', 'N', 'N', 'N', 'B', 'E', 'N', 'N', 'N', 'N', 'N', 'N', 'N', 'N', '<PAD>', '<PAD>', '<PAD>', '<PAD>', '<PAD>', '<PAD>', '<PAD>', '<PAD>', '<PAD>', '<PAD>', '<PAD>', '<PAD>', '<PAD>', '<PAD>', '<PAD>', '<PAD>', '<PAD>', '<PAD>', '<PAD>', '<PAD>', '<PAD>', '<PAD>', '<PAD>']\n",
      "Pred label : ['N', 'N', 'N', 'N', 'N', 'N', 'N', 'N', 'N', 'N', 'C', 'N', 'N', 'N', 'N', 'N', 'N', 'N', 'N', 'N', 'N', 'N', 'N', 'N', 'N', 'N', 'N', '<PAD>', '<PAD>', '<PAD>', '<PAD>', '<PAD>', '<PAD>', '<PAD>', '<PAD>', '<PAD>', '<PAD>', '<PAD>', '<PAD>', '<PAD>', '<PAD>', '<PAD>', '<PAD>', '<PAD>', '<PAD>', '<PAD>', '<PAD>', '<PAD>', '<PAD>', '<PAD>']\n",
      "Sapmle 1 :\n",
      "True label : ['C', 'N', 'N', 'N', 'B', 'I', 'I', 'I', 'E', 'N', 'N', 'N', 'N', 'N', 'N', 'C', 'C', 'N', 'C', 'N', 'N', 'N', 'N', 'N', 'N', 'N', 'N', 'N', 'N', 'N', 'N', 'C', 'N', 'N', 'N', 'N', 'N', 'N', 'N', 'N', 'N', 'N', 'N', 'N', 'N', 'N', 'N', 'B', 'E', 'N']\n",
      "Pred label : ['N', 'N', 'N', 'N', 'N', 'N', 'N', 'N', 'N', 'N', 'N', 'N', 'N', 'N', 'N', 'C', 'C', 'N', 'C', 'N', 'N', 'N', 'N', 'N', 'N', 'N', 'N', 'N', 'N', 'N', 'N', 'C', 'N', 'N', 'N', 'N', 'N', 'N', 'N', 'N', 'N', 'N', 'N', 'N', 'N', 'N', 'N', 'C', 'N', 'N']\n",
      "epoch: 1 , batch: 500, batch_loss: 0.2875917851924896\n",
      "Sapmle 0 :\n",
      "True label : ['C', 'C', 'N', 'N', 'C', 'N', 'N', 'N', 'N', 'N', 'N', 'N', 'N', 'N', 'N', '<PAD>', '<PAD>', '<PAD>', '<PAD>', '<PAD>', '<PAD>', '<PAD>', '<PAD>', '<PAD>', '<PAD>', '<PAD>', '<PAD>', '<PAD>', '<PAD>', '<PAD>', '<PAD>', '<PAD>', '<PAD>', '<PAD>', '<PAD>', '<PAD>', '<PAD>', '<PAD>', '<PAD>', '<PAD>', '<PAD>', '<PAD>', '<PAD>', '<PAD>', '<PAD>', '<PAD>', '<PAD>', '<PAD>', '<PAD>', '<PAD>']\n",
      "Pred label : ['C', 'C', 'N', 'N', 'N', 'N', 'N', 'N', 'N', 'N', 'N', 'N', 'N', 'N', 'N', '<PAD>', '<PAD>', '<PAD>', '<PAD>', '<PAD>', '<PAD>', '<PAD>', '<PAD>', '<PAD>', '<PAD>', '<PAD>', '<PAD>', '<PAD>', '<PAD>', '<PAD>', '<PAD>', '<PAD>', '<PAD>', '<PAD>', '<PAD>', '<PAD>', '<PAD>', '<PAD>', '<PAD>', '<PAD>', '<PAD>', '<PAD>', '<PAD>', '<PAD>', '<PAD>', '<PAD>', '<PAD>', '<PAD>', '<PAD>', '<PAD>']\n",
      "Sapmle 1 :\n",
      "True label : ['N', 'N', 'N', 'N', 'B', 'E', 'N', 'N', 'N', 'E', 'N', 'N', 'N', 'N', 'N', 'N', 'N', 'N', 'N', 'N', 'N', 'N', 'N', 'N', 'N', 'B', 'E', 'N', 'N', 'N', 'N', 'N', '<PAD>', '<PAD>', '<PAD>', '<PAD>', '<PAD>', '<PAD>', '<PAD>', '<PAD>', '<PAD>', '<PAD>', '<PAD>', '<PAD>', '<PAD>', '<PAD>', '<PAD>', '<PAD>', '<PAD>', '<PAD>']\n",
      "Pred label : ['C', 'N', 'C', 'N', 'B', 'N', 'N', 'N', 'N', 'N', 'N', 'N', 'N', 'N', 'N', 'N', 'N', 'N', 'N', 'N', 'N', 'N', 'N', 'N', 'N', 'N', 'N', 'N', 'N', 'N', 'N', 'N', '<PAD>', '<PAD>', '<PAD>', '<PAD>', '<PAD>', '<PAD>', '<PAD>', '<PAD>', '<PAD>', '<PAD>', '<PAD>', '<PAD>', '<PAD>', '<PAD>', '<PAD>', '<PAD>', '<PAD>', '<PAD>']\n",
      "epoch: 1 , batch: 1000, batch_loss: 0.261854887008667\n",
      "Sapmle 0 :\n",
      "True label : ['C', '<PAD>', '<PAD>', '<PAD>', '<PAD>', '<PAD>', '<PAD>', '<PAD>', '<PAD>', '<PAD>', '<PAD>', '<PAD>', '<PAD>', '<PAD>', '<PAD>', '<PAD>', '<PAD>', '<PAD>', '<PAD>', '<PAD>', '<PAD>', '<PAD>', '<PAD>', '<PAD>', '<PAD>', '<PAD>', '<PAD>', '<PAD>', '<PAD>', '<PAD>', '<PAD>', '<PAD>', '<PAD>', '<PAD>', '<PAD>', '<PAD>', '<PAD>', '<PAD>', '<PAD>', '<PAD>', '<PAD>', '<PAD>', '<PAD>', '<PAD>', '<PAD>', '<PAD>', '<PAD>', '<PAD>', '<PAD>', '<PAD>']\n",
      "Pred label : ['C', '<PAD>', '<PAD>', '<PAD>', '<PAD>', '<PAD>', '<PAD>', '<PAD>', '<PAD>', '<PAD>', '<PAD>', '<PAD>', '<PAD>', '<PAD>', '<PAD>', '<PAD>', '<PAD>', '<PAD>', '<PAD>', '<PAD>', '<PAD>', '<PAD>', '<PAD>', '<PAD>', '<PAD>', '<PAD>', '<PAD>', '<PAD>', '<PAD>', '<PAD>', '<PAD>', '<PAD>', '<PAD>', '<PAD>', '<PAD>', '<PAD>', '<PAD>', '<PAD>', '<PAD>', '<PAD>', '<PAD>', '<PAD>', '<PAD>', '<PAD>', '<PAD>', '<PAD>', '<PAD>', '<PAD>', '<PAD>', '<PAD>']\n",
      "Sapmle 1 :\n",
      "True label : ['N', 'N', 'N', 'N', 'N', 'N', 'N', 'N', 'N', 'N', 'C', 'N', 'C', 'N', 'N', 'N', 'N', 'N', 'N', 'N', 'N', 'N', 'N', 'N', 'N', 'N', 'C', 'N', 'N', 'C', 'N', 'N', 'N', 'N', 'N', 'N', 'N', 'N', 'N', 'N', 'N', 'N', 'N', 'C', 'N', 'N', 'N', 'N', 'N', 'N']\n",
      "Pred label : ['N', 'N', 'N', 'N', 'N', 'N', 'N', 'N', 'N', 'N', 'C', 'N', 'C', 'N', 'N', 'N', 'N', 'N', 'N', 'N', 'N', 'N', 'N', 'N', 'N', 'N', 'C', 'N', 'N', 'C', 'N', 'N', 'N', 'N', 'N', 'N', 'N', 'N', 'N', 'N', 'N', 'N', 'N', 'C', 'N', 'N', 'N', 'N', 'N', 'N']\n",
      "epoch: 1 , batch: 1500, batch_loss: 0.23228660225868225\n",
      "Sapmle 0 :\n",
      "True label : ['C', 'N', 'N', 'N', 'N', 'N', 'N', 'B', 'E', 'N', 'N', 'N', 'N', 'N', 'N', 'N', 'N', 'N', 'N', 'N', 'N', 'N', 'N', 'N', 'N', 'N', 'N', 'N', 'N', 'C', 'N', 'N', 'N', 'N', 'N', 'N', 'N', 'N', 'N', 'N', 'N', 'N', 'N', 'N', 'N', 'N', 'N', 'B', 'E', 'N']\n",
      "Pred label : ['C', 'N', 'N', 'N', 'N', 'N', 'N', 'B', 'N', 'N', 'N', 'N', 'N', 'N', 'N', 'N', 'N', 'N', 'N', 'N', 'N', 'N', 'N', 'N', 'N', 'N', 'N', 'N', 'N', 'C', 'N', 'N', 'N', 'N', 'N', 'N', 'N', 'N', 'N', 'N', 'N', 'N', 'N', 'N', 'N', 'N', 'N', 'N', 'N', 'N']\n",
      "Sapmle 1 :\n",
      "True label : ['B', 'E', 'N', 'B', 'E', 'N', 'B', 'E', 'C', 'N', 'N', 'N', 'N', 'N', 'N', 'N', 'B', 'E', 'N', 'N', 'C', 'N', 'N', 'N', 'N', 'B', 'E', 'N', 'B', 'E', 'N', 'B', 'E', 'N', 'N', 'N', 'N', 'N', 'N', 'N', 'N', 'N', 'B', 'E', 'N', 'N', 'N', 'N', 'B', 'I']\n",
      "Pred label : ['B', 'E', 'N', 'B', 'C', 'N', 'B', 'E', 'C', 'N', 'N', 'N', 'N', 'N', 'N', 'N', 'N', 'N', 'N', 'N', 'C', 'N', 'N', 'N', 'N', 'N', 'N', 'N', 'N', 'N', 'N', 'N', 'N', 'N', 'N', 'N', 'N', 'N', 'N', 'N', 'N', 'N', 'N', 'N', 'N', 'N', 'N', 'N', 'N', 'N']\n",
      "epoch: 1 , epoch_loss: 0.26903072949868956\n",
      "epoch_p: [0.99986489 0.89413331 0.67269445 0.52012081 0.50255647 0.36723121\n",
      " 0.88888889]\n",
      "epoch_r: [0.9999328  0.98031571 0.8282731  0.12477994 0.13204888 0.05630275\n",
      " 0.20512821]\n",
      "epoch_f1: [0.9999328  0.98031571 0.8282731  0.12477994 0.13204888 0.05630275\n",
      " 0.20512821]\n",
      "-----------------------------------------------------\n",
      "epoch: 2 , batch: 0, batch_loss: 0.21792230010032654\n",
      "Sapmle 0 :\n",
      "True label : ['N', 'C', 'N', 'B', 'E', 'N', 'N', 'N', 'N', 'N', 'N', 'B', 'E', 'N', 'N', 'N', 'N', 'N', 'N', 'N', 'C', 'N', 'N', 'N', 'N', 'N', 'N', 'N', 'N', 'N', 'N', 'N', 'N', 'B', 'E', 'N', 'B', 'E', 'N', 'N', 'B', 'E', 'B', 'E', 'N', 'N', 'N', 'N', 'N', 'N']\n",
      "Pred label : ['N', 'C', 'N', 'B', 'E', 'N', 'N', 'N', 'N', 'N', 'N', 'B', 'E', 'N', 'N', 'N', 'N', 'N', 'N', 'N', 'C', 'N', 'N', 'N', 'N', 'N', 'N', 'N', 'N', 'N', 'N', 'N', 'N', 'N', 'N', 'N', 'B', 'E', 'C', 'N', 'B', 'N', 'B', 'E', 'N', 'N', 'N', 'N', 'N', 'N']\n",
      "Sapmle 1 :\n",
      "True label : ['N', 'N', 'N', 'N', 'C', 'N', 'N', 'N', 'N', 'N', 'N', 'N', 'N', 'N', 'N', 'N', 'N', 'N', 'N', 'N', 'N', 'N', 'N', 'N', 'N', 'N', 'N', 'N', 'N', 'C', 'N', 'N', 'N', 'N', 'N', 'N', 'N', 'N', 'N', 'N', 'C', 'N', 'N', 'N', 'N', 'N', 'N', 'N', 'B', 'E']\n",
      "Pred label : ['N', 'N', 'C', 'N', 'C', 'N', 'N', 'N', 'N', 'N', 'N', 'N', 'N', 'N', 'N', 'N', 'N', 'N', 'N', 'N', 'N', 'N', 'N', 'N', 'N', 'N', 'N', 'N', 'N', 'C', 'N', 'N', 'N', 'C', 'C', 'N', 'N', 'N', 'N', 'N', 'N', 'N', 'N', 'N', 'N', 'N', 'N', 'N', 'N', 'N']\n",
      "epoch: 2 , batch: 500, batch_loss: 0.2310517430305481\n",
      "Sapmle 0 :\n",
      "True label : ['C', 'C', 'B', 'E', 'N', 'N', 'C', 'N', 'N', 'N', 'C', 'C', 'N', 'N', 'B', 'E', 'N', 'N', 'N', 'N', 'N', 'N', 'N', 'N', 'N', 'N', 'N', 'N', 'N', 'B', 'E', 'N', 'N', 'N', 'B', 'E', 'B', 'E', 'N', 'N', 'N', 'N', 'N', 'N', 'N', 'N', 'N', 'N', 'N', 'N']\n",
      "Pred label : ['C', 'C', 'B', 'E', 'N', 'N', 'C', 'N', 'N', 'N', 'C', 'C', 'N', 'N', 'C', 'N', 'N', 'N', 'N', 'N', 'N', 'N', 'N', 'N', 'N', 'N', 'N', 'N', 'N', 'C', 'N', 'N', 'N', 'N', 'N', 'N', 'N', 'N', 'N', 'N', 'N', 'N', 'N', 'N', 'N', 'N', 'N', 'N', 'N', 'N']\n",
      "Sapmle 1 :\n",
      "True label : ['N', 'N', 'N', 'N', 'N', 'N', 'N', 'N', 'N', 'N', 'N', 'N', 'N', 'N', '<PAD>', '<PAD>', '<PAD>', '<PAD>', '<PAD>', '<PAD>', '<PAD>', '<PAD>', '<PAD>', '<PAD>', '<PAD>', '<PAD>', '<PAD>', '<PAD>', '<PAD>', '<PAD>', '<PAD>', '<PAD>', '<PAD>', '<PAD>', '<PAD>', '<PAD>', '<PAD>', '<PAD>', '<PAD>', '<PAD>', '<PAD>', '<PAD>', '<PAD>', '<PAD>', '<PAD>', '<PAD>', '<PAD>', '<PAD>', '<PAD>', '<PAD>']\n",
      "Pred label : ['N', 'N', 'N', 'N', 'N', 'N', 'N', 'N', 'N', 'N', 'N', 'N', 'N', 'N', '<PAD>', '<PAD>', '<PAD>', '<PAD>', '<PAD>', '<PAD>', '<PAD>', '<PAD>', '<PAD>', '<PAD>', '<PAD>', '<PAD>', '<PAD>', '<PAD>', '<PAD>', '<PAD>', '<PAD>', '<PAD>', '<PAD>', '<PAD>', '<PAD>', '<PAD>', '<PAD>', '<PAD>', '<PAD>', '<PAD>', '<PAD>', '<PAD>', '<PAD>', '<PAD>', '<PAD>', '<PAD>', '<PAD>', '<PAD>', '<PAD>', '<PAD>']\n"
     ]
    },
    {
     "name": "stdout",
     "output_type": "stream",
     "text": [
      "epoch: 2 , batch: 1000, batch_loss: 0.1683739721775055\n",
      "Sapmle 0 :\n",
      "True label : ['N', 'B', 'E', 'N', 'N', 'N', 'N', 'N', 'B', 'E', 'N', 'N', 'N', 'N', 'B', 'E', 'N', 'N', 'N', 'C', 'N', 'E', 'B', 'N', 'N', 'N', 'N', 'N', 'N', 'N', 'N', 'N', 'N', 'N', 'N', 'N', 'N', 'N', 'N', 'N', 'N', 'N', 'N', 'N', 'N', 'N', 'N', 'N', 'N', 'N']\n",
      "Pred label : ['N', 'C', 'E', 'N', 'N', 'N', 'C', 'N', 'B', 'E', 'N', 'N', 'N', 'C', 'N', 'E', 'N', 'N', 'N', 'N', 'N', 'N', 'N', 'N', 'N', 'N', 'N', 'N', 'N', 'N', 'N', 'N', 'N', 'N', 'N', 'N', 'N', 'N', 'N', 'N', 'N', 'N', 'N', 'N', 'N', 'N', 'N', 'N', 'N', 'N']\n",
      "Sapmle 1 :\n",
      "True label : ['N', 'N', 'N', 'N', 'C', 'N', 'C', 'N', 'N', 'N', 'N', 'N', 'N', 'N', 'N', 'N', 'C', 'B', 'E', 'N', 'N', 'N', 'N', 'N', 'N', 'N', 'C', 'N', 'N', 'N', 'N', 'N', 'N', 'N', 'N', 'N', 'N', 'N', 'N', 'N', 'N', 'N', 'C', 'N', '<PAD>', '<PAD>', '<PAD>', '<PAD>', '<PAD>', '<PAD>']\n",
      "Pred label : ['N', 'N', 'N', 'N', 'C', 'N', 'C', 'N', 'N', 'N', 'N', 'N', 'N', 'N', 'N', 'N', 'C', 'B', 'E', 'N', 'N', 'N', 'N', 'N', 'N', 'N', 'C', 'N', 'N', 'N', 'N', 'N', 'N', 'N', 'N', 'N', 'N', 'N', 'N', 'N', 'N', 'N', 'C', 'N', '<PAD>', '<PAD>', '<PAD>', '<PAD>', '<PAD>', '<PAD>']\n",
      "epoch: 2 , batch: 1500, batch_loss: 0.1949334740638733\n",
      "Sapmle 0 :\n",
      "True label : ['C', 'N', 'N', 'N', 'N', 'N', 'N', 'N', 'N', 'N', 'N', 'N', 'N', 'N', 'N', 'N', 'N', 'N', 'N', 'N', 'N', 'N', 'N', 'N', 'N', 'N', 'N', 'N', 'N', 'N', 'N', 'N', 'N', 'N', 'N', 'N', 'B', 'E', 'N', 'N', 'N', 'N', 'N', '<PAD>', '<PAD>', '<PAD>', '<PAD>', '<PAD>', '<PAD>', '<PAD>']\n",
      "Pred label : ['C', 'N', 'N', 'N', 'N', 'N', 'N', 'N', 'N', 'N', 'N', 'N', 'N', 'N', 'N', 'N', 'N', 'N', 'N', 'N', 'N', 'N', 'N', 'N', 'N', 'N', 'N', 'N', 'N', 'N', 'N', 'N', 'N', 'N', 'N', 'N', 'B', 'N', 'N', 'N', 'N', 'N', 'N', '<PAD>', '<PAD>', '<PAD>', '<PAD>', '<PAD>', '<PAD>', '<PAD>']\n",
      "Sapmle 1 :\n",
      "True label : ['N', 'N', 'N', 'C', 'C', 'N', 'N', 'N', 'C', 'N', 'B', 'E', 'N', 'N', 'N', 'N', 'N', 'N', 'N', 'N', 'B', 'I', 'E', 'N', 'N', 'N', 'B', 'E', 'N', 'N', 'N', 'N', 'N', 'N', 'N', 'N', 'N', 'N', 'N', 'N', 'N', 'N', 'B', 'E', 'N', 'N', 'N', 'N', 'N', 'N']\n",
      "Pred label : ['N', 'N', 'N', 'C', 'B', 'E', 'N', 'N', 'C', 'N', 'N', 'N', 'N', 'N', 'N', 'N', 'N', 'N', 'N', 'N', 'B', 'I', 'E', 'N', 'N', 'N', 'N', 'N', 'N', 'N', 'N', 'N', 'N', 'N', 'N', 'N', 'N', 'N', 'N', 'N', 'N', 'N', 'N', 'N', 'N', 'N', 'N', 'N', 'N', 'N']\n",
      "epoch: 2 , epoch_loss: 0.20564865769929444\n",
      "epoch_p: [0.99996172 0.91781634 0.79866625 0.64008707 0.65672771 0.5439223\n",
      " 0.91176471]\n",
      "epoch_r: [0.99996824 0.97453739 0.90191254 0.32750898 0.35792681 0.25696372\n",
      " 0.79487179]\n",
      "epoch_f1: [0.99996824 0.97453739 0.90191254 0.32750898 0.35792681 0.25696372\n",
      " 0.79487179]\n",
      "-----------------------------------------------------\n",
      "epoch: 3 , batch: 0, batch_loss: 0.15267160534858704\n",
      "Sapmle 0 :\n",
      "True label : ['B', 'E', 'N', 'C', '<PAD>', '<PAD>', '<PAD>', '<PAD>', '<PAD>', '<PAD>', '<PAD>', '<PAD>', '<PAD>', '<PAD>', '<PAD>', '<PAD>', '<PAD>', '<PAD>', '<PAD>', '<PAD>', '<PAD>', '<PAD>', '<PAD>', '<PAD>', '<PAD>', '<PAD>', '<PAD>', '<PAD>', '<PAD>', '<PAD>', '<PAD>', '<PAD>', '<PAD>', '<PAD>', '<PAD>', '<PAD>', '<PAD>', '<PAD>', '<PAD>', '<PAD>', '<PAD>', '<PAD>', '<PAD>', '<PAD>', '<PAD>', '<PAD>', '<PAD>', '<PAD>', '<PAD>', '<PAD>']\n",
      "Pred label : ['B', 'E', 'N', 'C', '<PAD>', '<PAD>', '<PAD>', '<PAD>', '<PAD>', '<PAD>', '<PAD>', '<PAD>', '<PAD>', '<PAD>', '<PAD>', '<PAD>', '<PAD>', '<PAD>', '<PAD>', '<PAD>', '<PAD>', '<PAD>', '<PAD>', '<PAD>', '<PAD>', '<PAD>', '<PAD>', '<PAD>', '<PAD>', '<PAD>', '<PAD>', '<PAD>', '<PAD>', '<PAD>', '<PAD>', '<PAD>', '<PAD>', '<PAD>', '<PAD>', '<PAD>', '<PAD>', '<PAD>', '<PAD>', '<PAD>', '<PAD>', '<PAD>', '<PAD>', '<PAD>', '<PAD>', '<PAD>']\n",
      "Sapmle 1 :\n",
      "True label : ['N', 'N', 'N', 'N', 'N', '<PAD>', '<PAD>', '<PAD>', '<PAD>', '<PAD>', '<PAD>', '<PAD>', '<PAD>', '<PAD>', '<PAD>', '<PAD>', '<PAD>', '<PAD>', '<PAD>', '<PAD>', '<PAD>', '<PAD>', '<PAD>', '<PAD>', '<PAD>', '<PAD>', '<PAD>', '<PAD>', '<PAD>', '<PAD>', '<PAD>', '<PAD>', '<PAD>', '<PAD>', '<PAD>', '<PAD>', '<PAD>', '<PAD>', '<PAD>', '<PAD>', '<PAD>', '<PAD>', '<PAD>', '<PAD>', '<PAD>', '<PAD>', '<PAD>', '<PAD>', '<PAD>', '<PAD>']\n",
      "Pred label : ['N', 'N', 'N', 'N', 'N', '<PAD>', '<PAD>', '<PAD>', '<PAD>', '<PAD>', '<PAD>', '<PAD>', '<PAD>', '<PAD>', '<PAD>', '<PAD>', '<PAD>', '<PAD>', '<PAD>', '<PAD>', '<PAD>', '<PAD>', '<PAD>', '<PAD>', '<PAD>', '<PAD>', '<PAD>', '<PAD>', '<PAD>', '<PAD>', '<PAD>', '<PAD>', '<PAD>', '<PAD>', '<PAD>', '<PAD>', '<PAD>', '<PAD>', '<PAD>', '<PAD>', '<PAD>', '<PAD>', '<PAD>', '<PAD>', '<PAD>', '<PAD>', '<PAD>', '<PAD>', '<PAD>', '<PAD>']\n",
      "epoch: 3 , batch: 500, batch_loss: 0.17479807138442993\n",
      "Sapmle 0 :\n",
      "True label : ['B', 'E', 'N', 'N', 'B', 'E', 'N', 'N', 'N', 'N', 'N', 'N', 'N', '<PAD>', '<PAD>', '<PAD>', '<PAD>', '<PAD>', '<PAD>', '<PAD>', '<PAD>', '<PAD>', '<PAD>', '<PAD>', '<PAD>', '<PAD>', '<PAD>', '<PAD>', '<PAD>', '<PAD>', '<PAD>', '<PAD>', '<PAD>', '<PAD>', '<PAD>', '<PAD>', '<PAD>', '<PAD>', '<PAD>', '<PAD>', '<PAD>', '<PAD>', '<PAD>', '<PAD>', '<PAD>', '<PAD>', '<PAD>', '<PAD>', '<PAD>', '<PAD>']\n",
      "Pred label : ['C', 'C', 'N', 'N', 'N', 'E', 'N', 'N', 'N', 'N', 'N', 'N', 'N', '<PAD>', '<PAD>', '<PAD>', '<PAD>', '<PAD>', '<PAD>', '<PAD>', '<PAD>', '<PAD>', '<PAD>', '<PAD>', '<PAD>', '<PAD>', '<PAD>', '<PAD>', '<PAD>', '<PAD>', '<PAD>', '<PAD>', '<PAD>', '<PAD>', '<PAD>', '<PAD>', '<PAD>', '<PAD>', '<PAD>', '<PAD>', '<PAD>', '<PAD>', '<PAD>', '<PAD>', '<PAD>', '<PAD>', '<PAD>', '<PAD>', '<PAD>', '<PAD>']\n",
      "Sapmle 1 :\n",
      "True label : ['C', 'C', 'N', 'B', 'I', 'E', 'N', 'N', 'N', 'N', '<PAD>', '<PAD>', '<PAD>', '<PAD>', '<PAD>', '<PAD>', '<PAD>', '<PAD>', '<PAD>', '<PAD>', '<PAD>', '<PAD>', '<PAD>', '<PAD>', '<PAD>', '<PAD>', '<PAD>', '<PAD>', '<PAD>', '<PAD>', '<PAD>', '<PAD>', '<PAD>', '<PAD>', '<PAD>', '<PAD>', '<PAD>', '<PAD>', '<PAD>', '<PAD>', '<PAD>', '<PAD>', '<PAD>', '<PAD>', '<PAD>', '<PAD>', '<PAD>', '<PAD>', '<PAD>', '<PAD>']\n",
      "Pred label : ['C', 'C', 'N', 'N', 'N', 'E', 'N', 'N', 'N', 'E', '<PAD>', '<PAD>', '<PAD>', '<PAD>', '<PAD>', '<PAD>', '<PAD>', '<PAD>', '<PAD>', '<PAD>', '<PAD>', '<PAD>', '<PAD>', '<PAD>', '<PAD>', '<PAD>', '<PAD>', '<PAD>', '<PAD>', '<PAD>', '<PAD>', '<PAD>', '<PAD>', '<PAD>', '<PAD>', '<PAD>', '<PAD>', '<PAD>', '<PAD>', '<PAD>', '<PAD>', '<PAD>', '<PAD>', '<PAD>', '<PAD>', '<PAD>', '<PAD>', '<PAD>', '<PAD>', '<PAD>']\n",
      "epoch: 3 , batch: 1000, batch_loss: 0.15951590240001678\n",
      "Sapmle 0 :\n",
      "True label : ['N', 'N', 'N', 'N', 'N', 'N', 'N', 'N', 'N', 'B', 'E', 'N', 'N', 'N', 'N', 'N', 'N', 'N', 'N', 'N', 'N', 'N', 'N', 'C', 'N', 'N', 'N', 'N', 'N', 'N', 'N', 'N', 'N', 'N', 'N', '<PAD>', '<PAD>', '<PAD>', '<PAD>', '<PAD>', '<PAD>', '<PAD>', '<PAD>', '<PAD>', '<PAD>', '<PAD>', '<PAD>', '<PAD>', '<PAD>', '<PAD>']\n",
      "Pred label : ['N', 'N', 'N', 'N', 'N', 'N', 'N', 'N', 'N', 'N', 'N', 'N', 'N', 'N', 'N', 'N', 'N', 'N', 'N', 'N', 'N', 'N', 'N', 'N', 'N', 'N', 'N', 'N', 'N', 'N', 'N', 'N', 'N', 'N', 'N', '<PAD>', '<PAD>', '<PAD>', '<PAD>', '<PAD>', '<PAD>', '<PAD>', '<PAD>', '<PAD>', '<PAD>', '<PAD>', '<PAD>', '<PAD>', '<PAD>', '<PAD>']\n",
      "Sapmle 1 :\n",
      "True label : ['C', 'B', 'E', 'N', 'N', 'N', 'C', 'N', 'N', 'N', 'C', 'N', 'N', 'N', 'N', 'N', 'N', 'E', 'C', 'N', 'N', 'N', 'N', 'N', 'N', 'N', 'N', 'N', 'N', 'N', 'N', 'N', 'N', 'N', 'B', 'E', 'C', 'N', 'N', 'N', 'N', 'N', 'N', 'N', 'C', 'N', 'N', 'C', 'N', 'N']\n",
      "Pred label : ['C', 'B', 'E', 'N', 'N', 'N', 'C', 'N', 'N', 'N', 'C', 'N', 'N', 'N', 'N', 'N', 'N', 'N', 'C', 'N', 'N', 'N', 'N', 'N', 'N', 'N', 'N', 'N', 'N', 'N', 'N', 'N', 'N', 'N', 'N', 'N', 'C', 'N', 'N', 'N', 'N', 'N', 'N', 'N', 'C', 'N', 'N', 'C', 'N', 'N']\n",
      "epoch: 3 , batch: 1500, batch_loss: 0.17036280035972595\n",
      "Sapmle 0 :\n",
      "True label : ['N', 'N', 'N', 'N', '<PAD>', '<PAD>', '<PAD>', '<PAD>', '<PAD>', '<PAD>', '<PAD>', '<PAD>', '<PAD>', '<PAD>', '<PAD>', '<PAD>', '<PAD>', '<PAD>', '<PAD>', '<PAD>', '<PAD>', '<PAD>', '<PAD>', '<PAD>', '<PAD>', '<PAD>', '<PAD>', '<PAD>', '<PAD>', '<PAD>', '<PAD>', '<PAD>', '<PAD>', '<PAD>', '<PAD>', '<PAD>', '<PAD>', '<PAD>', '<PAD>', '<PAD>', '<PAD>', '<PAD>', '<PAD>', '<PAD>', '<PAD>', '<PAD>', '<PAD>', '<PAD>', '<PAD>', '<PAD>']\n",
      "Pred label : ['N', 'N', 'N', 'N', '<PAD>', '<PAD>', '<PAD>', '<PAD>', '<PAD>', '<PAD>', '<PAD>', '<PAD>', '<PAD>', '<PAD>', '<PAD>', '<PAD>', '<PAD>', '<PAD>', '<PAD>', '<PAD>', '<PAD>', '<PAD>', '<PAD>', '<PAD>', '<PAD>', '<PAD>', '<PAD>', '<PAD>', '<PAD>', '<PAD>', '<PAD>', '<PAD>', '<PAD>', '<PAD>', '<PAD>', '<PAD>', '<PAD>', '<PAD>', '<PAD>', '<PAD>', '<PAD>', '<PAD>', '<PAD>', '<PAD>', '<PAD>', '<PAD>', '<PAD>', '<PAD>', '<PAD>', '<PAD>']\n",
      "Sapmle 1 :\n",
      "True label : ['N', 'N', 'N', 'N', 'N', 'N', 'N', 'N', 'N', 'N', '<PAD>', '<PAD>', '<PAD>', '<PAD>', '<PAD>', '<PAD>', '<PAD>', '<PAD>', '<PAD>', '<PAD>', '<PAD>', '<PAD>', '<PAD>', '<PAD>', '<PAD>', '<PAD>', '<PAD>', '<PAD>', '<PAD>', '<PAD>', '<PAD>', '<PAD>', '<PAD>', '<PAD>', '<PAD>', '<PAD>', '<PAD>', '<PAD>', '<PAD>', '<PAD>', '<PAD>', '<PAD>', '<PAD>', '<PAD>', '<PAD>', '<PAD>', '<PAD>', '<PAD>', '<PAD>', '<PAD>']\n",
      "Pred label : ['N', 'N', 'N', 'N', 'N', 'N', 'N', 'N', 'N', 'N', '<PAD>', '<PAD>', '<PAD>', '<PAD>', '<PAD>', '<PAD>', '<PAD>', '<PAD>', '<PAD>', '<PAD>', '<PAD>', '<PAD>', '<PAD>', '<PAD>', '<PAD>', '<PAD>', '<PAD>', '<PAD>', '<PAD>', '<PAD>', '<PAD>', '<PAD>', '<PAD>', '<PAD>', '<PAD>', '<PAD>', '<PAD>', '<PAD>', '<PAD>', '<PAD>', '<PAD>', '<PAD>', '<PAD>', '<PAD>', '<PAD>', '<PAD>', '<PAD>', '<PAD>', '<PAD>', '<PAD>']\n"
     ]
    },
    {
     "name": "stdout",
     "output_type": "stream",
     "text": [
      "epoch: 3 , epoch_loss: 0.17291794000871924\n",
      "epoch_p: [0.9999776  0.93030695 0.86656917 0.69776518 0.71152027 0.64171744\n",
      " 0.75      ]\n",
      "epoch_r: [0.99997774 0.97598269 0.92017757 0.4365524  0.47105506 0.38809115\n",
      " 0.69230769]\n",
      "epoch_f1: [0.99997774 0.97598269 0.92017757 0.4365524  0.47105506 0.38809115\n",
      " 0.69230769]\n",
      "-----------------------------------------------------\n",
      "epoch: 4 , batch: 0, batch_loss: 0.1607147455215454\n",
      "Sapmle 0 :\n",
      "True label : ['C', 'B', 'I', 'E', 'N', 'N', 'N', 'N', 'N', 'N', 'N', 'N', 'N', 'N', 'N', 'B', 'E', 'C', 'N', 'N', 'C', 'C', 'N', 'N', 'N', 'N', 'N', 'B', 'E', 'N', 'N', 'N', 'N', 'N', 'N', 'N', 'N', 'N', 'N', 'N', 'N', 'N', 'C', 'N', 'N', 'N', 'B', 'E', '<PAD>', '<PAD>']\n",
      "Pred label : ['C', 'C', 'B', 'E', 'N', 'N', 'N', 'N', 'N', 'N', 'N', 'N', 'N', 'N', 'N', 'B', 'E', 'C', 'N', 'N', 'C', 'C', 'N', 'N', 'N', 'N', 'N', 'N', 'N', 'N', 'N', 'N', 'N', 'N', 'N', 'N', 'N', 'N', 'N', 'N', 'N', 'N', 'C', 'N', 'N', 'N', 'N', 'N', '<PAD>', '<PAD>']\n",
      "Sapmle 1 :\n",
      "True label : ['N', 'N', 'N', 'N', 'N', 'N', 'N', 'N', 'N', 'N', 'C', 'N', 'N', 'B', 'E', 'N', 'N', 'N', 'N', 'N', 'N', 'B', 'E', 'N', 'N', 'B', 'E', 'N', 'N', 'N', 'N', 'B', 'E', 'N', 'N', 'N', 'B', 'E', 'N', 'N', 'N', 'N', 'N', 'N', 'N', 'N', 'N', 'N', 'N', 'N']\n",
      "Pred label : ['N', 'N', 'N', 'N', 'N', 'N', 'N', 'N', 'N', 'N', 'C', 'N', 'N', 'B', 'E', 'N', 'N', 'N', 'N', 'N', 'N', 'B', 'E', 'N', 'N', 'N', 'N', 'N', 'B', 'E', 'N', 'N', 'N', 'N', 'B', 'N', 'B', 'N', 'N', 'N', 'N', 'N', 'N', 'N', 'N', 'N', 'N', 'N', 'N', 'N']\n",
      "epoch: 4 , batch: 500, batch_loss: 0.14537228643894196\n",
      "Sapmle 0 :\n",
      "True label : ['N', 'N', 'N', 'N', 'N', 'N', 'N', '<PAD>', '<PAD>', '<PAD>', '<PAD>', '<PAD>', '<PAD>', '<PAD>', '<PAD>', '<PAD>', '<PAD>', '<PAD>', '<PAD>', '<PAD>', '<PAD>', '<PAD>', '<PAD>', '<PAD>', '<PAD>', '<PAD>', '<PAD>', '<PAD>', '<PAD>', '<PAD>', '<PAD>', '<PAD>', '<PAD>', '<PAD>', '<PAD>', '<PAD>', '<PAD>', '<PAD>', '<PAD>', '<PAD>', '<PAD>', '<PAD>', '<PAD>', '<PAD>', '<PAD>', '<PAD>', '<PAD>', '<PAD>', '<PAD>', '<PAD>']\n",
      "Pred label : ['N', 'N', 'N', 'N', 'N', 'N', 'N', '<PAD>', '<PAD>', '<PAD>', '<PAD>', '<PAD>', '<PAD>', '<PAD>', '<PAD>', '<PAD>', '<PAD>', '<PAD>', '<PAD>', '<PAD>', '<PAD>', '<PAD>', '<PAD>', '<PAD>', '<PAD>', '<PAD>', '<PAD>', '<PAD>', '<PAD>', '<PAD>', '<PAD>', '<PAD>', '<PAD>', '<PAD>', '<PAD>', '<PAD>', '<PAD>', '<PAD>', '<PAD>', '<PAD>', '<PAD>', '<PAD>', '<PAD>', '<PAD>', '<PAD>', '<PAD>', '<PAD>', '<PAD>', '<PAD>', '<PAD>']\n",
      "Sapmle 1 :\n",
      "True label : ['N', 'N', 'N', '<PAD>', '<PAD>', '<PAD>', '<PAD>', '<PAD>', '<PAD>', '<PAD>', '<PAD>', '<PAD>', '<PAD>', '<PAD>', '<PAD>', '<PAD>', '<PAD>', '<PAD>', '<PAD>', '<PAD>', '<PAD>', '<PAD>', '<PAD>', '<PAD>', '<PAD>', '<PAD>', '<PAD>', '<PAD>', '<PAD>', '<PAD>', '<PAD>', '<PAD>', '<PAD>', '<PAD>', '<PAD>', '<PAD>', '<PAD>', '<PAD>', '<PAD>', '<PAD>', '<PAD>', '<PAD>', '<PAD>', '<PAD>', '<PAD>', '<PAD>', '<PAD>', '<PAD>', '<PAD>', '<PAD>']\n",
      "Pred label : ['N', 'N', 'N', '<PAD>', '<PAD>', '<PAD>', '<PAD>', '<PAD>', '<PAD>', '<PAD>', '<PAD>', '<PAD>', '<PAD>', '<PAD>', '<PAD>', '<PAD>', '<PAD>', '<PAD>', '<PAD>', '<PAD>', '<PAD>', '<PAD>', '<PAD>', '<PAD>', '<PAD>', '<PAD>', '<PAD>', '<PAD>', '<PAD>', '<PAD>', '<PAD>', '<PAD>', '<PAD>', '<PAD>', '<PAD>', '<PAD>', '<PAD>', '<PAD>', '<PAD>', '<PAD>', '<PAD>', '<PAD>', '<PAD>', '<PAD>', '<PAD>', '<PAD>', '<PAD>', '<PAD>', '<PAD>', '<PAD>']\n",
      "epoch: 4 , batch: 1000, batch_loss: 0.16224806010723114\n",
      "Sapmle 0 :\n",
      "True label : ['N', 'N', 'N', 'N', 'N', 'N', 'N', 'B', 'E', 'N', 'N', 'N', 'N', 'N', 'B', 'E', 'B', 'E', 'N', 'B', 'E', 'N', 'N', 'N', 'N', 'N', 'N', 'N', 'N', 'B', 'E', 'N', 'N', 'N', 'N', 'N', 'N', 'N', 'N', 'N', 'N', 'N', 'N', 'B', 'E', 'N', 'N', 'N', 'N', 'N']\n",
      "Pred label : ['N', 'N', 'N', 'N', 'N', 'N', 'N', 'N', 'N', 'N', 'N', 'N', 'N', 'N', 'N', 'N', 'N', 'E', 'N', 'B', 'E', 'N', 'N', 'N', 'N', 'N', 'N', 'N', 'N', 'N', 'N', 'N', 'N', 'N', 'N', 'N', 'N', 'N', 'N', 'N', 'N', 'N', 'N', 'N', 'N', 'N', 'N', 'N', 'N', 'N']\n",
      "Sapmle 1 :\n",
      "True label : ['C', 'N', 'N', 'C', 'N', 'N', 'N', 'N', 'N', 'N', 'N', 'N', 'N', 'N', 'N', 'N', 'N', 'C', 'N', 'N', 'N', 'N', 'N', 'C', 'N', 'N', 'N', 'N', 'C', 'C', 'C', 'N', 'N', 'N', 'N', 'N', 'N', 'N', 'N', 'N', 'N', 'N', 'N', 'N', 'N', 'N', 'B', 'E', 'C', 'N']\n",
      "Pred label : ['C', 'N', 'N', 'C', 'N', 'N', 'N', 'C', 'N', 'N', 'N', 'N', 'N', 'N', 'N', 'N', 'B', 'E', 'B', 'E', 'N', 'N', 'N', 'C', 'N', 'N', 'N', 'N', 'C', 'C', 'C', 'N', 'N', 'N', 'N', 'N', 'N', 'N', 'N', 'N', 'N', 'N', 'N', 'N', 'N', 'N', 'C', 'N', 'C', 'N']\n",
      "epoch: 4 , batch: 1500, batch_loss: 0.13609099388122559\n",
      "Sapmle 0 :\n",
      "True label : ['B', 'E', 'N', 'N', 'N', 'N', 'N', 'N', 'N', 'N', 'C', 'N', 'B', 'E', 'N', 'C', 'N', 'N', 'N', 'N', 'N', 'N', 'N', 'C', 'N', 'N', '<PAD>', '<PAD>', '<PAD>', '<PAD>', '<PAD>', '<PAD>', '<PAD>', '<PAD>', '<PAD>', '<PAD>', '<PAD>', '<PAD>', '<PAD>', '<PAD>', '<PAD>', '<PAD>', '<PAD>', '<PAD>', '<PAD>', '<PAD>', '<PAD>', '<PAD>', '<PAD>', '<PAD>']\n",
      "Pred label : ['B', 'E', 'B', 'I', 'N', 'I', 'E', 'N', 'N', 'N', 'C', 'N', 'B', 'E', 'N', 'C', 'N', 'N', 'N', 'N', 'N', 'N', 'N', 'C', 'N', 'N', '<PAD>', '<PAD>', '<PAD>', '<PAD>', '<PAD>', '<PAD>', '<PAD>', '<PAD>', '<PAD>', '<PAD>', '<PAD>', '<PAD>', '<PAD>', '<PAD>', '<PAD>', '<PAD>', '<PAD>', '<PAD>', '<PAD>', '<PAD>', '<PAD>', '<PAD>', '<PAD>', '<PAD>']\n",
      "Sapmle 1 :\n",
      "True label : ['N', 'C', 'N', 'C', 'N', 'N', 'C', 'N', 'C', 'N', 'N', 'N', 'N', 'B', 'E', 'N', 'N', 'N', 'N', 'N', 'N', 'N', 'N', 'N', 'N', 'N', 'N', 'N', 'N', 'N', 'N', 'N', 'N', 'N', 'N', 'N', '<PAD>', '<PAD>', '<PAD>', '<PAD>', '<PAD>', '<PAD>', '<PAD>', '<PAD>', '<PAD>', '<PAD>', '<PAD>', '<PAD>', '<PAD>', '<PAD>']\n",
      "Pred label : ['N', 'C', 'N', 'C', 'N', 'N', 'C', 'N', 'C', 'N', 'N', 'N', 'N', 'B', 'E', 'N', 'N', 'N', 'N', 'N', 'N', 'N', 'N', 'N', 'N', 'N', 'N', 'N', 'N', 'N', 'N', 'N', 'N', 'N', 'N', 'N', '<PAD>', '<PAD>', '<PAD>', '<PAD>', '<PAD>', '<PAD>', '<PAD>', '<PAD>', '<PAD>', '<PAD>', '<PAD>', '<PAD>', '<PAD>', '<PAD>']\n",
      "epoch: 4 , epoch_loss: 0.1550648796834693\n",
      "epoch_p: [0.9999837  0.93725451 0.89233464 0.72824135 0.74588767 0.68544346\n",
      " 1.        ]\n",
      "epoch_r: [0.99998483 0.9774615  0.93064219 0.49348054 0.52809701 0.45839619\n",
      " 0.94871795]\n",
      "epoch_f1: [0.99998483 0.9774615  0.93064219 0.49348054 0.52809701 0.45839619\n",
      " 0.94871795]\n",
      "-----------------------------------------------------\n"
     ]
    },
    {
     "data": {
      "image/png": "[encoded data removed]",
      "text/plain": [
       "<Figure size 432x288 with 1 Axes>"
      ]
     },
     "metadata": {},
     "output_type": "display_data"
    }
   ],
   "source": [
    "train(model, max_seq_len, label_one_hot, output_vocab, learning_rate, ctx)"
   ]
  },
  {
   "cell_type": "code",
   "execution_count": 28,
   "metadata": {},
   "outputs": [
    {
     "data": {
      "text/plain": [
       "array([0.])"
      ]
     },
     "execution_count": 28,
     "metadata": {},
     "output_type": "execute_result"
    }
   ],
   "source": [
    "np.zeros(shape=(1,))"
   ]
  },
  {
   "cell_type": "code",
   "execution_count": 29,
   "metadata": {},
   "outputs": [],
   "source": [
    "def cal_scores(y_hat, label):\n",
    "    \"\"\"y_hat 与 label 都为一维向量\"\"\"\n",
    "    p = metrics.precision_score(label, y_hat, average=None)\n",
    "    r = metrics.recall_score(label, y_hat, average=None)\n",
    "    f1 = metrics.recall_score(label, y_hat, average=None)\n",
    "    return p, r, f1"
   ]
  },
  {
   "cell_type": "code",
   "execution_count": 30,
   "metadata": {},
   "outputs": [],
   "source": [
    "a = np.array([[1, 0, 1, 0, 0],\n",
    "              [1, 2, 0, 1, 0]\n",
    "             ])\n",
    "b = np.array([[1, 0, 1, 1, 0],\n",
    "              [1, 1, 1, 0, 1]\n",
    "             ])"
   ]
  },
  {
   "cell_type": "code",
   "execution_count": 31,
   "metadata": {},
   "outputs": [
    {
     "name": "stderr",
     "output_type": "stream",
     "text": [
      "c:\\developtool\\python\\lib\\site-packages\\sklearn\\metrics\\classification.py:1137: UndefinedMetricWarning: Recall is ill-defined and being set to 0.0 in labels with no true samples.\n",
      "  'recall', 'true', average, warn_for)\n"
     ]
    },
    {
     "data": {
      "text/plain": [
       "(array([0.4 , 0.75, 0.  ]),\n",
       " array([0.66666667, 0.42857143, 0.        ]),\n",
       " array([0.66666667, 0.42857143, 0.        ]))"
      ]
     },
     "execution_count": 31,
     "metadata": {},
     "output_type": "execute_result"
    }
   ],
   "source": [
    "cal_scores(a.reshape(-1), b.reshape(-1))"
   ]
  },
  {
   "cell_type": "code",
   "execution_count": null,
   "metadata": {},
   "outputs": [],
   "source": []
  }
 ],
 "metadata": {
  "kernelspec": {
   "display_name": "Python 3",
   "language": "python",
   "name": "python3"
  },
  "language_info": {
   "codemirror_mode": {
    "name": "ipython",
    "version": 3
   },
   "file_extension": ".py",
   "mimetype": "text/x-python",
   "name": "python",
   "nbconvert_exporter": "python",
   "pygments_lexer": "ipython3",
   "version": "3.6.4"
  }
 },
 "nbformat": 4,
 "nbformat_minor": 2
}
