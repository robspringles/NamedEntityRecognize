{
 "cells": [
  {
   "cell_type": "markdown",
   "metadata": {},
   "source": [
    "# 使用 CNN 进行命名实体识别"
   ]
  },
  {
   "cell_type": "markdown",
   "metadata": {},
   "source": [
    "## 导入相关模块并设置一些参数"
   ]
  },
  {
   "cell_type": "code",
   "execution_count": 1,
   "metadata": {},
   "outputs": [],
   "source": [
    "import numpy as np\n",
    "import mxnet as mx\n",
    "import collections\n",
    "import time\n",
    "import os\n",
    "\n",
    "from mxnet import autograd, gluon, nd\n",
    "from mxnet.gluon import nn, rnn, Block\n",
    "from mxnet.contrib import text\n",
    "from sklearn import metrics\n",
    "from sklearn.model_selection import train_test_split\n",
    "from io import open\n",
    "\n",
    "import matplotlib.pyplot as plt\n",
    "%matplotlib inline"
   ]
  },
  {
   "cell_type": "code",
   "execution_count": 2,
   "metadata": {},
   "outputs": [],
   "source": [
    "PAD = '<PAD>'\n",
    "NOT = 'N'\n",
    "PAD_NATURE = 'r'"
   ]
  },
  {
   "cell_type": "code",
   "execution_count": 3,
   "metadata": {},
   "outputs": [],
   "source": [
    "epochs = 10\n",
    "drop_prob = 0.2\n",
    "batch_size = 256\n",
    "learning_rate = 0.01\n",
    "\n",
    "max_seq_len = 30\n",
    "\n",
    "word_vec_size = 200\n",
    "nature_vec_size = 50\n",
    "distance_vec_size = 50\n",
    "num_channels = 10\n",
    "conv_width = word_vec_size + nature_vec_size + distance_vec_size\n",
    "kernels_size_ls = [(2, conv_width), (3, conv_width), (4, conv_width)]\n",
    "padding_ls = None\n",
    "pool_size = (2, 1) \n",
    "output_size = 6\n",
    "distance_size = 2 * max_seq_len - 1\n",
    "\n",
    "ctx = mx.gpu()"
   ]
  },
  {
   "cell_type": "markdown",
   "metadata": {},
   "source": [
    "## 定义一些辅助函数"
   ]
  },
  {
   "cell_type": "code",
   "execution_count": 4,
   "metadata": {},
   "outputs": [],
   "source": [
    "def read_data(max_seq_len):\n",
    "    \"\"\"读取数据\"\"\"\n",
    "    input_tokens = []   # 记录输入 X 的所有词，包含重复\n",
    "    output_tokens = []  # 记录输出 Y 的所有符号，包含重复\n",
    "    nature_tokens = []  # 记录所有词的词性的符号，包含重复\n",
    "    input_seqs = []  # 列表中装的列表，里面的每个列表代表一条输入，填充或截断好了的\n",
    "    output_seqs = []  # 同input_seqs\n",
    "    nature_seqs = []\n",
    "    \n",
    "    with open(\"../data_for_seq2seq/re_cut_lines_word.txt\", 'r') as fx, open(\"../data_for_seq2seq/re_cut_lines_label.txt\", 'r') as fy, open(\"../data_for_seq2seq/re_cut_lines_nature.txt\", 'r') as fn:\n",
    "        word_lines = fx.readlines()\n",
    "        label_lines = fy.readlines()\n",
    "        word_natures = fn.readlines()\n",
    "        \n",
    "        for word_line, lable_line, word_nature in zip(word_lines, label_lines, word_natures):\n",
    "            \n",
    "            input_seq = word_line.strip()\n",
    "            output_seq = lable_line.strip()\n",
    "            nature_seq = word_nature.strip()\n",
    "            \n",
    "            cur_input_tokens = input_seq.split(' ')\n",
    "            cur_output_tokens = output_seq.split(' ')\n",
    "            cur_nature_tokens = nature_seq.split(' ')\n",
    "            \n",
    "            if '' in cur_output_tokens:\n",
    "                continue\n",
    "            \n",
    "            if len(cur_input_tokens) < max_seq_len or len(cur_output_tokens) < max_seq_len or len(cur_nature_tokens) < max_seq_len:\n",
    "                input_tokens.extend(cur_input_tokens)\n",
    "                output_tokens.extend(cur_output_tokens)\n",
    "                nature_tokens.extend(cur_nature_tokens)\n",
    "                \n",
    "                # 添加 PAD 符号使每个序列等长，长度为 max_seq_len\n",
    "                while len(cur_input_tokens) < max_seq_len:\n",
    "                    cur_input_tokens.append(PAD)\n",
    "                    # 把输出也填充到了最大长度\n",
    "                    cur_output_tokens.append(NOT)\n",
    "                    cur_nature_tokens.append(PAD_NATURE)\n",
    "                    \n",
    "                input_seqs.append(cur_input_tokens)                            \n",
    "                output_seqs.append(cur_output_tokens)\n",
    "                nature_seqs.append(cur_nature_tokens)\n",
    "                \n",
    "            else:\n",
    "                cur_input_tokens = cur_input_tokens[0: max_seq_len]\n",
    "                cur_output_tokens = cur_output_tokens[0: max_seq_len]\n",
    "                cur_nature_tokens = cur_nature_tokens[0: max_seq_len]\n",
    "                \n",
    "                input_tokens.extend(cur_input_tokens)\n",
    "                input_seqs.append(cur_input_tokens)\n",
    "                \n",
    "                output_tokens.extend(cur_output_tokens)\n",
    "                output_seqs.append(cur_output_tokens)\n",
    "                \n",
    "                nature_tokens.extend(cur_nature_tokens)\n",
    "                nature_seqs.append(cur_nature_tokens)\n",
    "                \n",
    "        fr_vocab = text.vocab.Vocabulary(collections.Counter(input_tokens), reserved_tokens=[PAD])\n",
    "        print(collections.Counter(output_tokens))\n",
    "        en_vocab = text.vocab.Vocabulary(collections.Counter(output_tokens))\n",
    "        \n",
    "        nature_vocab = text.vocab.Vocabulary(collections.Counter(nature_tokens))\n",
    "    \n",
    "    return fr_vocab, en_vocab, nature_vocab, input_seqs, output_seqs, nature_seqs"
   ]
  },
  {
   "cell_type": "code",
   "execution_count": 5,
   "metadata": {},
   "outputs": [],
   "source": [
    "def generate_cnn_input(word_data, nature, batch_distance, pos):\n",
    "    \"\"\"生成满足模型的输入\"\"\"\n",
    "    x_input = word_data[:, pos]\n",
    "    nature_input = nature[:, pos]\n",
    "    distance_input = batch_distance[:, pos]\n",
    "    \n",
    "    return x_input, nature_input, distance_input   "
   ]
  },
  {
   "cell_type": "code",
   "execution_count": 6,
   "metadata": {},
   "outputs": [],
   "source": [
    "def cal_scores(y_hat, label):\n",
    "    \"\"\"计算结果的评分指标\"\"\"\n",
    "    # 将预测结果与真实标记都变为一维数组以方便计算\n",
    "    y_hat = y_hat.reshape((-1, ))\n",
    "    label = label.reshape((-1, ))\n",
    "    # average 置为 None，可以返回每个类别的 P R F\n",
    "    p = metrics.precision_score(label, y_hat, average='micro')\n",
    "    r = metrics.recall_score(label, y_hat, average='micro')\n",
    "    f1 = metrics.f1_score(label, y_hat, average='micro')\n",
    "    return p, r, f1"
   ]
  },
  {
   "cell_type": "markdown",
   "metadata": {},
   "source": [
    "## 数据的预处理"
   ]
  },
  {
   "cell_type": "code",
   "execution_count": 7,
   "metadata": {},
   "outputs": [
    {
     "name": "stdout",
     "output_type": "stream",
     "text": [
      "Counter({'N': 7739104, 'C': 626209, 'B': 566764, 'E': 544024, 'I': 153734})\n"
     ]
    }
   ],
   "source": [
    "input_vocab, output_vocab, nature_vocab, input_seqs, output_seqs, nature_seqs = read_data(max_seq_len)"
   ]
  },
  {
   "cell_type": "code",
   "execution_count": 8,
   "metadata": {},
   "outputs": [
    {
     "data": {
      "text/plain": [
       "215540"
      ]
     },
     "execution_count": 8,
     "metadata": {},
     "output_type": "execute_result"
    }
   ],
   "source": [
    "len(input_vocab)"
   ]
  },
  {
   "cell_type": "code",
   "execution_count": 9,
   "metadata": {},
   "outputs": [
    {
     "data": {
      "text/plain": [
       "['<unk>', 'N', 'C', 'B', 'E', 'I']"
      ]
     },
     "execution_count": 9,
     "metadata": {},
     "output_type": "execute_result"
    }
   ],
   "source": [
    "output_vocab.idx_to_token"
   ]
  },
  {
   "cell_type": "code",
   "execution_count": 10,
   "metadata": {},
   "outputs": [
    {
     "data": {
      "text/plain": [
       "73"
      ]
     },
     "execution_count": 10,
     "metadata": {},
     "output_type": "execute_result"
    }
   ],
   "source": [
    "len(nature_vocab)"
   ]
  },
  {
   "cell_type": "code",
   "execution_count": 11,
   "metadata": {},
   "outputs": [
    {
     "name": "stdout",
     "output_type": "stream",
     "text": [
      "Loading...\n",
      "End\n"
     ]
    }
   ],
   "source": [
    "if os.path.exists(\"../data_for_cnn_lstm/X.npy\") and  os.path.exists(\"../data_for_cnn_lstm/Y.npy\") and os.path.exists(\"../data_for_cnn_lstm/nature.npy\"):\n",
    "    print(\"Loading...\")\n",
    "    X = np.load(\"../data_for_cnn_lstm/X.npy\")\n",
    "    Y = np.load(\"../data_for_cnn_lstm/Y.npy\")\n",
    "    nature = np.load(\"../data_for_cnn_lstm/nature.npy\")\n",
    "    print(\"End\")\n",
    "else:\n",
    "    print(\"Converting...\")\n",
    "    X = nd.zeros((len(input_seqs), max_seq_len))\n",
    "    Y = nd.zeros((len(output_seqs), max_seq_len))\n",
    "    nature = nd.zeros((len(nature_seqs), max_seq_len))\n",
    "    \n",
    "    for i in range(len(input_seqs)):\n",
    "        X[i] = nd.array(input_vocab.to_indices(input_seqs[i]))\n",
    "        Y[i] = nd.array(output_vocab.to_indices(output_seqs[i]))\n",
    "        nature[i] = nd.array(nature_vocab.to_indices(nature_seqs[i]))\n",
    "    np.save(\"../data_for_cnn_lstm/X.npy\", X.asnumpy())\n",
    "    np.save(\"../data_for_cnn_lstm/Y.npy\", Y.asnumpy())\n",
    "    np.save(\"../data_for_cnn_lstm/nature.npy\", nature.asnumpy())\n",
    "    print(\"End\")"
   ]
  },
  {
   "cell_type": "code",
   "execution_count": 12,
   "metadata": {},
   "outputs": [
    {
     "data": {
      "text/plain": [
       "((429469, 30), (429469, 30))"
      ]
     },
     "execution_count": 12,
     "metadata": {},
     "output_type": "execute_result"
    }
   ],
   "source": [
    "nature.shape, X.shape"
   ]
  },
  {
   "cell_type": "code",
   "execution_count": 13,
   "metadata": {},
   "outputs": [
    {
     "data": {
      "text/plain": [
       "(((420879, 30), (420879, 30), (420879, 30)),\n",
       " ((8590, 30), (8590, 30), (8590, 30)))"
      ]
     },
     "execution_count": 13,
     "metadata": {},
     "output_type": "execute_result"
    }
   ],
   "source": [
    "X_train, X_test, Y_train, Y_test, nature_train, nature_test = train_test_split(X, Y, nature, test_size=0.02, random_state=33)\n",
    "((X_train.shape, Y_train.shape, nature_train.shape), (X_test.shape, Y_test.shape, nature_test.shape))"
   ]
  },
  {
   "cell_type": "code",
   "execution_count": 14,
   "metadata": {},
   "outputs": [],
   "source": [
    "dataset_train = gluon.data.ArrayDataset(nd.array(X_train, ctx=ctx), nd.array(Y_train, ctx=ctx), nd.array(nature_train, ctx=ctx))\n",
    "data_iter_train = gluon.data.DataLoader(dataset_train, batch_size, shuffle=True, last_batch='rollover')"
   ]
  },
  {
   "cell_type": "code",
   "execution_count": 15,
   "metadata": {},
   "outputs": [],
   "source": [
    "del X_train, Y_train, nature_train"
   ]
  },
  {
   "cell_type": "markdown",
   "metadata": {},
   "source": [
    "***\n",
    "## 定义模型"
   ]
  },
  {
   "cell_type": "code",
   "execution_count": 16,
   "metadata": {},
   "outputs": [],
   "source": [
    "class CNN_Model(nn.Block):\n",
    "    def __init__(self, vocab_size, word_vec_size, nature_size, nature_vec_size, distance_size, distance_vec_size,\n",
    "                 num_channels, kernels_size_ls, padding_ls, pool_size, output_size,\n",
    "                 drop_prob=0.2,  **kwargs):\n",
    "        super(CNN_Model, self).__init__(**kwargs)\n",
    "        with self.name_scope():\n",
    "            self.word_embedding = nn.Embedding(vocab_size, word_vec_size)\n",
    "            self.nature_embedding = nn.Embedding(nature_size, nature_vec_size)\n",
    "            self.distance_embedding = nn.Embedding(distance_size, distance_vec_size)\n",
    "            self.num_channels = num_channels\n",
    "            self.kernels_size_ls = kernels_size_ls\n",
    "            self.conv_ls = []\n",
    "            for kernel_size in kernels_size_ls:\n",
    "                conv = nn.Conv2D(channels=num_channels, kernel_size=kernel_size, activation='relu')\n",
    "                self.register_child(conv)\n",
    "                self.conv_ls.append(conv)\n",
    "            self.max_pool = nn.MaxPool2D(pool_size=pool_size)\n",
    "            self.flatten = nn.Flatten()\n",
    "            self.dense = nn.Dense(output_size)\n",
    "            self.drop = nn.Dropout(drop_prob)\n",
    "        \n",
    "    def forward(self, x_input, nature_input, distance_input):\n",
    "        batch_words_embed = self.word_embedding(x_input)\n",
    "        batch_nature_embed = self.nature_embedding(nature_input)\n",
    "        batch_distance_embed = self.distance_embedding(distance_input)\n",
    "        \n",
    "        # (batch_size, height, width)\n",
    "        batch_data_x = nd.concat(batch_words_embed, batch_nature_embed, batch_distance_embed, dim=2)\n",
    "        # (batch_size, 1, height, width)\n",
    "        batch_data_x = nd.expand_dims(batch_data_x, axis=1)\n",
    "        \n",
    "        conv_pool_result = []\n",
    "        for conv in self.conv_ls:\n",
    "            conv_result = conv(batch_data_x)    # (batch_size, num_channels, out_height, out_width)\n",
    "            pool_result = self.max_pool(conv_result)    # (batch_size, num_channels, new_height, new_width)\n",
    "            pool_result = self.flatten(pool_result)\n",
    "            conv_pool_result.append(pool_result)\n",
    "        # (batch_size, len(kernel_size_ls)*num_channels*new_height,new_width)\n",
    "        conv_pool_result_concated = nd.concat(*conv_pool_result, dim=1)\n",
    "        conv_pool_result_concated = self.drop(conv_pool_result_concated)\n",
    "        output = self.dense(conv_pool_result_concated)\n",
    "        \n",
    "        return output   \n",
    "        "
   ]
  },
  {
   "cell_type": "markdown",
   "metadata": {},
   "source": [
    "## 构建一个输出标签的one-hot矩阵"
   ]
  },
  {
   "cell_type": "code",
   "execution_count": 17,
   "metadata": {},
   "outputs": [
    {
     "data": {
      "text/plain": [
       "\n",
       "[[1. 0. 0. 0. 0. 0.]\n",
       " [0. 1. 0. 0. 0. 0.]\n",
       " [0. 0. 1. 0. 0. 0.]\n",
       " [0. 0. 0. 1. 0. 0.]\n",
       " [0. 0. 0. 0. 1. 0.]\n",
       " [0. 0. 0. 0. 0. 1.]]\n",
       "<NDArray 6x6 @gpu(0)>"
      ]
     },
     "execution_count": 17,
     "metadata": {},
     "output_type": "execute_result"
    }
   ],
   "source": [
    "dic_value = nd.array(list(output_vocab.token_to_idx.values()), ctx=ctx)\n",
    "\n",
    "label_one_hot = nd.one_hot(dic_value, dic_value.shape[0])\n",
    "\n",
    "label_one_hot"
   ]
  },
  {
   "cell_type": "markdown",
   "metadata": {},
   "source": [
    "## 定义训练函数，并实例化模型，开始训练"
   ]
  },
  {
   "cell_type": "code",
   "execution_count": 18,
   "metadata": {},
   "outputs": [],
   "source": [
    "def train(model, max_seq_len, label_one_hot, output_vocab, learning_rate, ctx):\n",
    "    \"\"\"训练函数\"\"\"\n",
    "    model.collect_params().initialize(mx.init.Xavier(), ctx=ctx)\n",
    "    \n",
    "    optimizer = gluon.Trainer(model.collect_params(), 'adam',\n",
    "                                      {'learning_rate': learning_rate})\n",
    "\n",
    "    softmax_cross_entropy = gluon.loss.SoftmaxCrossEntropyLoss(sparse_label=False)\n",
    "\n",
    "    start_time = time.time()\n",
    "    \n",
    "    total_loss = []   \n",
    "    for epoch in range(0, epochs):\n",
    "        p = 0.0\n",
    "        r = 0.0\n",
    "        f1 = 0.0      \n",
    "        epoch_loss = 0.0\n",
    "        batch_idx = 0\n",
    "        for x, y, nature in data_iter_train:\n",
    "            batch_preds = []\n",
    "            with autograd.record():\n",
    "                batch_loss = nd.array([0], ctx=ctx)              \n",
    "                for word_idx in range(x.shape[1]): \n",
    "                    distance = nd.arange(x.shape[1], ctx=ctx) - word_idx\n",
    "                    distance = distance.reshape((1, -1))\n",
    "                    # batch_distance 尺寸: (batch_size, max_seq_length)\n",
    "                    batch_distance = nd.broadcast_axis(distance, axis=0, size=batch_size)                    \n",
    "                    \n",
    "                    outputs = model(x, nature, batch_distance)\n",
    "                    # preds 代表一个 batch 的第 word_idx 的词的输出，尺寸： (batch_size,)\n",
    "                    preds = nd.argmax(nd.softmax(outputs, axis=1), axis=1)\n",
    "                    \n",
    "                    # 扩展preds 为（batch_size, 1) 并添加入列表\n",
    "                    batch_preds.append(nd.expand_dims(preds, axis=1))              \n",
    "                    y_idx = y[:, word_idx]\n",
    "                    label = nd.take(label_one_hot, y_idx)\n",
    "                    \n",
    "                    batch_loss = batch_loss + nd.mean(softmax_cross_entropy(outputs, label))\n",
    "                \n",
    "            batch_loss.backward()\n",
    "            optimizer.step(batch_size)\n",
    "            \n",
    "            # 将一批的每个词的输出组合,得到一批的模型的输出\n",
    "            # 尺寸为 : (batch_size, max_seq_len)\n",
    "            batch_preds = nd.concat(*batch_preds, dim=1)\n",
    "            epoch_loss += batch_loss.asscalar()                     \n",
    "            \n",
    "            if batch_idx % 500 == 0:\n",
    "                print(\"epoch: {0} , batch: {1}, batch_loss: {2}\".format(epoch, batch_idx, batch_loss.asscalar()))\n",
    "                for example in range(2):\n",
    "                    true_idx = [int(x) for x in list(y[example].asnumpy())]\n",
    "                    pred_idx = [int(x) for x in list(batch_preds[example].asnumpy())]\n",
    "                    \n",
    "                    true_label = output_vocab.to_tokens(true_idx)\n",
    "                    pred_label = output_vocab.to_tokens(pred_idx)\n",
    "                    \n",
    "                    print(\"Sapmle {0} :\".format(example))\n",
    "                    print(\"True label : {0}\".format(true_label))\n",
    "                    print(\"Pred label : {0}\".format(pred_label))\n",
    "            \n",
    "            batch_p, batch_r, batch_f1 = cal_scores(batch_preds.asnumpy(), y.asnumpy())\n",
    "            p += batch_p\n",
    "            r += batch_r\n",
    "            f1 += batch_f1           \n",
    "            batch_idx += 1          \n",
    "        \n",
    "        epoch_loss = epoch_loss / batch_idx\n",
    "        p /= batch_idx\n",
    "        r /= batch_idx\n",
    "        f1 /= batch_idx\n",
    "        total_loss.append(epoch_loss)\n",
    "        \n",
    "        print(\"epoch: {0} , epoch_loss: {1}\".format(epoch, epoch_loss))\n",
    "        print(\"TrainData:  P: {0}, R: {1}, F: {2}\".format(p, r, f1))\n",
    "        print(\"-----------------------------------------------------\")\n",
    "    \n",
    "    end_time = time.time()\n",
    "    print(\"训练结束，用时 {0} 秒\".format(str(end_time-start_time)))\n",
    "    # 绘制每个 epoch 的loss的变化曲线图\n",
    "    plt.title(\"Loss\")\n",
    "    plt.xlabel(\"Epoch\")\n",
    "    plt.ylabel(\"Value\")\n",
    "    plt.plot(range(epochs), total_loss)\n",
    "    plt.show()         "
   ]
  },
  {
   "cell_type": "code",
   "execution_count": 19,
   "metadata": {},
   "outputs": [],
   "source": [
    "model = CNN_Model(len(input_vocab), word_vec_size, len(nature_vocab), nature_vec_size, distance_size, distance_vec_size,\n",
    "                 num_channels, kernels_size_ls, padding_ls, pool_size, output_size, drop_prob=drop_prob)"
   ]
  },
  {
   "cell_type": "code",
   "execution_count": 20,
   "metadata": {
    "scrolled": true
   },
   "outputs": [
    {
     "name": "stderr",
     "output_type": "stream",
     "text": [
      "c:\\developtool\\python\\lib\\site-packages\\mxnet\\gluon\\block.py:228: UserWarning: \"CNN_Model.conv_ls\" is a container with Blocks. Note that Blocks inside the list, tuple or dict will not be registered automatically. Make sure to register them using register_child() or switching to nn.Sequential/nn.HybridSequential instead. \n",
      "  .format(name=self.__class__.__name__ + \".\" + k))\n"
     ]
    },
    {
     "name": "stdout",
     "output_type": "stream",
     "text": [
      "epoch: 0 , batch: 0, batch_loss: 54.45577621459961\n",
      "Sapmle 0 :\n",
      "True label : ['N', 'B', 'E', 'N', 'C', 'C', 'N', 'N', 'N', 'N', 'N', 'N', 'N', 'N', 'N', 'N', 'N', 'B', 'I', 'E', 'N', 'N', 'N', 'N', 'N', 'N', 'N', 'N', 'N', 'N']\n",
      "Pred label : ['<unk>', '<unk>', '<unk>', '<unk>', '<unk>', 'I', 'I', '<unk>', '<unk>', '<unk>', 'I', '<unk>', 'I', '<unk>', '<unk>', '<unk>', '<unk>', '<unk>', 'B', '<unk>', 'B', 'B', '<unk>', '<unk>', '<unk>', '<unk>', 'B', '<unk>', '<unk>', '<unk>']\n",
      "Sapmle 1 :\n",
      "True label : ['C', 'N', 'N', 'N', 'N', 'N', 'N', 'N', 'N', 'N', 'N', 'N', 'N', 'N', 'N', 'N', 'N', 'N', 'N', 'N', 'N', 'N', 'N', 'N', 'N', 'N', 'N', 'N', 'N', 'N']\n",
      "Pred label : ['<unk>', '<unk>', 'I', 'I', 'I', 'I', 'I', '<unk>', 'B', 'I', '<unk>', 'I', '<unk>', 'I', 'B', 'B', 'I', 'C', 'B', 'B', 'B', 'I', '<unk>', 'B', 'B', 'B', 'B', '<unk>', 'B', 'B']\n",
      "epoch: 0 , batch: 500, batch_loss: 6.4006218910217285\n",
      "Sapmle 0 :\n",
      "True label : ['B', 'E', 'C', 'N', 'B', 'E', 'N', 'N', 'N', 'N', 'N', 'N', 'N', 'N', 'N', 'N', 'N', 'N', 'N', 'N', 'N', 'N', 'N', 'N', 'N', 'N', 'N', 'N', 'N', 'N']\n",
      "Pred label : ['B', 'E', 'C', 'N', 'N', 'N', 'N', 'N', 'N', 'N', 'N', 'N', 'N', 'N', 'N', 'N', 'N', 'N', 'N', 'N', 'N', 'N', 'N', 'N', 'N', 'N', 'N', 'N', 'N', 'N']\n",
      "Sapmle 1 :\n",
      "True label : ['C', 'C', 'N', 'N', 'N', 'N', 'N', 'N', 'N', 'N', 'N', 'N', 'N', 'N', 'N', 'N', 'N', 'N', 'N', 'N', 'N', 'C', 'N', 'N', 'N', 'N', 'B', 'E', 'B', 'E']\n",
      "Pred label : ['C', 'C', 'N', 'N', 'N', 'N', 'N', 'N', 'N', 'N', 'N', 'N', 'N', 'N', 'N', 'N', 'N', 'N', 'N', 'N', 'N', 'C', 'N', 'N', 'N', 'N', 'B', 'E', 'N', 'N']\n",
      "epoch: 0 , batch: 1000, batch_loss: 5.7624053955078125\n",
      "Sapmle 0 :\n",
      "True label : ['N', 'N', 'N', 'N', 'N', 'N', 'N', 'N', 'N', 'N', 'N', 'N', 'N', 'N', 'N', 'N', 'N', 'N', 'N', 'N', 'N', 'N', 'N', 'N', 'N', 'N', 'N', 'N', 'N', 'N']\n",
      "Pred label : ['N', 'N', 'N', 'N', 'N', 'N', 'N', 'N', 'N', 'N', 'N', 'N', 'N', 'N', 'N', 'N', 'N', 'N', 'N', 'N', 'N', 'N', 'N', 'N', 'N', 'N', 'N', 'N', 'N', 'N']\n",
      "Sapmle 1 :\n",
      "True label : ['N', 'N', 'N', 'N', 'N', 'N', 'N', 'N', 'N', 'N', 'N', 'N', 'N', 'N', 'N', 'N', 'N', 'N', 'N', 'N', 'N', 'N', 'N', 'N', 'N', 'N', 'N', 'N', 'N', 'N']\n",
      "Pred label : ['N', 'N', 'N', 'N', 'N', 'N', 'N', 'N', 'N', 'N', 'N', 'N', 'N', 'N', 'N', 'N', 'N', 'N', 'N', 'N', 'N', 'N', 'N', 'N', 'N', 'N', 'N', 'N', 'N', 'N']\n",
      "epoch: 0 , batch: 1500, batch_loss: 4.787276268005371\n",
      "Sapmle 0 :\n",
      "True label : ['B', 'E', 'N', 'N', 'N', 'N', 'N', 'B', 'I', 'E', 'B', 'E', 'N', 'N', 'N', 'N', 'N', 'N', 'N', 'N', 'B', 'E', 'N', 'N', 'N', 'C', 'N', 'N', 'N', 'N']\n",
      "Pred label : ['B', 'E', 'N', 'N', 'N', 'N', 'N', 'N', 'N', 'E', 'B', 'E', 'N', 'N', 'N', 'N', 'N', 'N', 'N', 'N', 'B', 'E', 'N', 'N', 'N', 'C', 'N', 'N', 'N', 'N']\n",
      "Sapmle 1 :\n",
      "True label : ['N', 'N', 'N', 'N', 'N', 'N', 'N', 'N', 'N', 'N', 'N', 'N', 'N', 'N', 'N', 'N', 'N', 'N', 'N', 'N', 'N', 'N', 'N', 'N', 'N', 'N', 'N', 'N', 'N', 'N']\n",
      "Pred label : ['N', 'N', 'N', 'N', 'N', 'N', 'N', 'N', 'N', 'N', 'N', 'N', 'N', 'N', 'N', 'N', 'N', 'N', 'N', 'N', 'N', 'N', 'N', 'N', 'N', 'N', 'N', 'N', 'N', 'N']\n",
      "epoch: 0 , epoch_loss: 6.954202611661016\n",
      "TrainData:  P: 0.92542761240369, R: 0.92542761240369, F: 0.92542761240369\n",
      "-----------------------------------------------------\n",
      "epoch: 1 , batch: 0, batch_loss: 4.249391078948975\n",
      "Sapmle 0 :\n",
      "True label : ['N', 'N', 'N', 'B', 'N', 'N', 'N', 'E', 'N', 'N', 'N', 'N', 'N', 'N', 'N', 'N', 'N', 'N', 'N', 'N', 'N', 'N', 'N', 'N', 'N', 'N', 'N', 'N', 'N', 'N']\n",
      "Pred label : ['N', 'N', 'N', 'N', 'N', 'N', 'N', 'N', 'N', 'N', 'N', 'N', 'N', 'N', 'N', 'N', 'N', 'N', 'N', 'B', 'N', 'N', 'N', 'N', 'N', 'N', 'N', 'N', 'N', 'N']\n",
      "Sapmle 1 :\n",
      "True label : ['N', 'N', 'N', 'N', 'N', 'N', 'N', 'N', 'N', 'N', 'N', 'N', 'N', 'N', 'N', 'N', 'N', 'N', 'N', 'N', 'N', 'N', 'N', 'N', 'N', 'N', 'C', 'N', 'N', 'N']\n",
      "Pred label : ['N', 'N', 'N', 'B', 'E', 'N', 'N', 'N', 'N', 'N', 'N', 'N', 'N', 'N', 'N', 'N', 'N', 'N', 'N', 'N', 'N', 'N', 'N', 'N', 'N', 'N', 'C', 'N', 'N', 'N']\n",
      "epoch: 1 , batch: 500, batch_loss: 4.458939552307129\n",
      "Sapmle 0 :\n",
      "True label : ['N', 'N', 'C', 'N', 'N', 'N', 'N', 'N', 'N', 'N', 'N', 'N', 'B', 'E', 'C', 'N', 'C', 'N', 'N', 'C', 'N', 'B', 'E', 'N', 'N', 'C', 'C', 'N', 'N', 'N']\n",
      "Pred label : ['N', 'N', 'C', 'N', 'N', 'N', 'N', 'N', 'N', 'N', 'N', 'N', 'B', 'E', 'C', 'N', 'C', 'N', 'N', 'C', 'N', 'B', 'E', 'N', 'N', 'C', 'C', 'N', 'N', 'N']\n",
      "Sapmle 1 :\n",
      "True label : ['B', 'E', 'B', 'E', 'N', 'N', 'N', 'N', 'B', 'E', 'N', 'N', 'N', 'N', 'N', 'N', 'N', 'N', 'N', 'N', 'N', 'N', 'N', 'N', 'N', 'N', 'N', 'N', 'N', 'N']\n",
      "Pred label : ['B', 'C', 'C', 'E', 'N', 'N', 'N', 'N', 'B', 'E', 'N', 'N', 'N', 'N', 'N', 'N', 'N', 'N', 'N', 'N', 'N', 'N', 'N', 'N', 'N', 'N', 'N', 'N', 'N', 'N']\n",
      "epoch: 1 , batch: 1000, batch_loss: 4.634707450866699\n",
      "Sapmle 0 :\n",
      "True label : ['B', 'E', 'N', 'N', 'C', 'N', 'N', 'N', 'N', 'N', 'N', 'N', 'N', 'N', 'N', 'N', 'N', 'N', 'N', 'N', 'N', 'N', 'N', 'N', 'N', 'N', 'N', 'N', 'N', 'N']\n",
      "Pred label : ['C', 'E', 'B', 'N', 'C', 'N', 'N', 'N', 'N', 'N', 'N', 'N', 'N', 'N', 'N', 'N', 'N', 'N', 'N', 'N', 'N', 'N', 'N', 'N', 'N', 'N', 'N', 'N', 'N', 'N']\n",
      "Sapmle 1 :\n",
      "True label : ['C', 'N', 'C', 'N', 'N', 'N', 'N', 'N', 'N', 'N', 'N', 'N', 'N', 'N', 'N', 'N', 'N', 'N', 'N', 'N', 'N', 'N', 'N', 'N', 'N', 'N', 'N', 'N', 'N', 'N']\n",
      "Pred label : ['C', 'N', 'C', 'N', 'N', 'N', 'N', 'N', 'N', 'N', 'N', 'N', 'N', 'N', 'N', 'N', 'N', 'N', 'N', 'N', 'N', 'N', 'N', 'N', 'N', 'N', 'N', 'N', 'N', 'N']\n",
      "epoch: 1 , batch: 1500, batch_loss: 4.205491542816162\n",
      "Sapmle 0 :\n",
      "True label : ['E', 'N', 'N', 'N', 'N', 'N', 'N', 'N', 'N', 'N', 'B', 'E', 'N', 'B', 'E', 'N', 'N', 'N', 'N', 'N', 'N', 'N', 'N', 'N', 'B', 'I', 'E', 'N', 'N', 'N']\n",
      "Pred label : ['N', 'N', 'N', 'N', 'N', 'N', 'N', 'N', 'N', 'N', 'N', 'E', 'N', 'B', 'E', 'N', 'N', 'N', 'N', 'N', 'N', 'N', 'N', 'N', 'I', 'E', 'E', 'N', 'N', 'N']\n",
      "Sapmle 1 :\n",
      "True label : ['N', 'N', 'N', 'C', 'N', 'N', 'N', 'N', 'N', 'N', 'N', 'N', 'N', 'N', 'N', 'N', 'N', 'N', 'N', 'N', 'N', 'N', 'N', 'N', 'N', 'N', 'N', 'N', 'N', 'N']\n",
      "Pred label : ['N', 'N', 'N', 'C', 'N', 'N', 'N', 'N', 'N', 'N', 'N', 'N', 'N', 'N', 'N', 'N', 'N', 'N', 'N', 'N', 'N', 'N', 'N', 'N', 'N', 'N', 'N', 'N', 'N', 'N']\n",
      "epoch: 1 , epoch_loss: 4.383662125925078\n",
      "TrainData:  P: 0.950551088554339, R: 0.950551088554339, F: 0.950551088554339\n",
      "-----------------------------------------------------\n",
      "epoch: 2 , batch: 0, batch_loss: 3.512199878692627\n",
      "Sapmle 0 :\n",
      "True label : ['N', 'N', 'C', 'N', 'N', 'N', 'N', 'N', 'N', 'N', 'N', 'N', 'N', 'N', 'N', 'N', 'N', 'N', 'N', 'N', 'N', 'N', 'N', 'C', 'N', 'N', 'N', 'N', 'N', 'N']\n",
      "Pred label : ['N', 'N', 'C', 'N', 'N', 'N', 'N', 'N', 'N', 'N', 'N', 'N', 'N', 'N', 'N', 'N', 'N', 'N', 'N', 'N', 'N', 'N', 'N', 'C', 'N', 'N', 'N', 'N', 'N', 'N']\n",
      "Sapmle 1 :\n",
      "True label : ['N', 'N', 'N', 'B', 'E', 'B', 'E', 'N', 'N', 'N', 'N', 'B', 'E', 'N', 'N', 'N', 'N', 'N', 'N', 'N', 'N', 'N', 'N', 'N', 'B', 'N', 'N', 'N', 'N', 'N']\n",
      "Pred label : ['N', 'N', 'N', 'I', 'E', 'B', 'E', 'N', 'N', 'N', 'N', 'B', 'E', 'N', 'N', 'N', 'N', 'N', 'N', 'N', 'N', 'N', 'N', 'N', 'B', 'N', 'N', 'N', 'N', 'N']\n",
      "epoch: 2 , batch: 500, batch_loss: 3.294231414794922\n",
      "Sapmle 0 :\n",
      "True label : ['B', 'E', 'C', 'N', 'B', 'E', 'N', 'N', 'N', 'N', 'B', 'N', 'N', 'N', 'N', 'N', 'N', 'N', 'N', 'N', 'N', 'N', 'N', 'N', 'N', 'N', 'N', 'N', 'N', 'N']\n",
      "Pred label : ['B', 'E', 'C', 'N', 'B', 'E', 'N', 'N', 'N', 'N', 'B', 'N', 'N', 'N', 'N', 'N', 'N', 'N', 'N', 'N', 'N', 'N', 'N', 'N', 'N', 'N', 'N', 'N', 'N', 'N']\n",
      "Sapmle 1 :\n",
      "True label : ['N', 'N', 'N', 'N', 'N', 'N', 'N', 'N', 'N', 'N', 'N', 'N', 'N', 'N', 'N', 'N', 'N', 'N', 'N', 'N', 'N', 'N', 'N', 'N', 'N', 'N', 'N', 'N', 'N', 'N']\n",
      "Pred label : ['N', 'N', 'N', 'N', 'N', 'N', 'N', 'N', 'N', 'N', 'N', 'N', 'N', 'N', 'N', 'N', 'N', 'N', 'N', 'N', 'N', 'N', 'N', 'N', 'N', 'N', 'N', 'N', 'N', 'N']\n",
      "epoch: 2 , batch: 1000, batch_loss: 3.6411795616149902\n",
      "Sapmle 0 :\n",
      "True label : ['N', 'N', 'N', 'N', 'N', 'N', 'N', 'N', 'N', 'B', 'E', 'N', 'N', 'N', 'N', 'B', 'E', 'N', 'N', 'N', 'N', 'N', 'N', 'N', 'N', 'N', 'N', 'N', 'N', 'N']\n",
      "Pred label : ['N', 'N', 'N', 'N', 'N', 'N', 'N', 'N', 'N', 'N', 'N', 'N', 'N', 'N', 'N', 'B', 'N', 'N', 'N', 'N', 'N', 'N', 'N', 'N', 'N', 'N', 'N', 'N', 'N', 'N']\n",
      "Sapmle 1 :\n",
      "True label : ['N', 'N', 'N', 'N', 'N', 'N', 'C', 'N', 'N', 'N', 'N', 'N', 'N', 'N', 'N', 'N', 'N', 'N', 'N', 'N', 'N', 'N', 'N', 'N', 'N', 'N', 'N', 'N', 'N', 'B']\n",
      "Pred label : ['N', 'N', 'N', 'N', 'N', 'N', 'C', 'N', 'N', 'E', 'N', 'N', 'N', 'N', 'N', 'N', 'N', 'N', 'N', 'N', 'N', 'N', 'N', 'N', 'N', 'N', 'N', 'N', 'N', 'N']\n"
     ]
    },
    {
     "name": "stdout",
     "output_type": "stream",
     "text": [
      "epoch: 2 , batch: 1500, batch_loss: 4.0240302085876465\n",
      "Sapmle 0 :\n",
      "True label : ['N', 'N', 'B', 'E', 'N', 'N', 'N', 'N', 'N', 'N', 'N', 'N', 'N', 'N', 'N', 'N', 'N', 'N', 'N', 'N', 'N', 'N', 'N', 'N', 'N', 'N', 'N', 'N', 'N', 'N']\n",
      "Pred label : ['N', 'N', 'B', 'E', 'N', 'N', 'N', 'N', 'N', 'N', 'N', 'N', 'N', 'N', 'N', 'N', 'N', 'N', 'N', 'N', 'N', 'N', 'N', 'N', 'N', 'N', 'N', 'N', 'N', 'N']\n",
      "Sapmle 1 :\n",
      "True label : ['N', 'N', 'N', 'N', 'N', 'N', 'N', 'N', 'N', 'N', 'N', 'N', 'N', 'N', 'N', 'N', 'N', 'N', 'N', 'N', 'N', 'N', 'N', 'N', 'N', 'N', 'N', 'N', 'N', 'N']\n",
      "Pred label : ['N', 'N', 'N', 'N', 'N', 'N', 'N', 'N', 'N', 'N', 'N', 'N', 'N', 'N', 'N', 'N', 'N', 'N', 'N', 'N', 'N', 'N', 'N', 'N', 'N', 'N', 'N', 'N', 'N', 'N']\n",
      "epoch: 2 , epoch_loss: 3.7597160667108502\n",
      "TrainData:  P: 0.9569973514801293, R: 0.9569973514801293, F: 0.9569973514801293\n",
      "-----------------------------------------------------\n",
      "epoch: 3 , batch: 0, batch_loss: 3.4164505004882812\n",
      "Sapmle 0 :\n",
      "True label : ['N', 'N', 'B', 'E', 'N', 'N', 'N', 'N', 'N', 'N', 'N', 'N', 'N', 'N', 'N', 'N', 'N', 'N', 'N', 'N', 'N', 'N', 'N', 'N', 'N', 'C', 'C', 'N', 'N', 'N']\n",
      "Pred label : ['N', 'N', 'B', 'N', 'N', 'N', 'N', 'N', 'N', 'N', 'N', 'N', 'N', 'N', 'N', 'N', 'N', 'N', 'N', 'N', 'N', 'N', 'N', 'N', 'N', 'C', 'C', 'N', 'N', 'N']\n",
      "Sapmle 1 :\n",
      "True label : ['N', 'N', 'N', 'C', 'N', 'N', 'N', 'N', 'N', 'N', 'N', 'N', 'N', 'N', 'N', 'N', 'N', 'N', 'N', 'N', 'N', 'N', 'N', 'N', 'N', 'N', 'N', 'N', 'N', 'N']\n",
      "Pred label : ['N', 'E', 'N', 'C', 'N', 'N', 'N', 'N', 'N', 'N', 'N', 'N', 'N', 'N', 'N', 'N', 'N', 'N', 'N', 'N', 'N', 'N', 'N', 'N', 'N', 'N', 'N', 'N', 'N', 'N']\n",
      "epoch: 3 , batch: 500, batch_loss: 3.188310384750366\n",
      "Sapmle 0 :\n",
      "True label : ['N', 'N', 'N', 'N', 'N', 'N', 'N', 'N', 'N', 'N', 'N', 'N', 'N', 'N', 'N', 'N', 'N', 'N', 'N', 'N', 'N', 'N', 'N', 'N', 'N', 'N', 'N', 'N', 'N', 'N']\n",
      "Pred label : ['N', 'N', 'N', 'N', 'N', 'N', 'N', 'N', 'N', 'N', 'N', 'N', 'N', 'N', 'N', 'N', 'N', 'N', 'N', 'N', 'N', 'N', 'N', 'N', 'N', 'N', 'N', 'N', 'N', 'N']\n",
      "Sapmle 1 :\n",
      "True label : ['N', 'N', 'N', 'N', 'N', 'N', 'C', 'N', 'C', 'N', 'N', 'N', 'N', 'N', 'N', 'N', 'N', 'N', 'N', 'B', 'E', 'N', 'N', 'N', 'N', 'N', 'N', 'N', 'N', 'N']\n",
      "Pred label : ['N', 'N', 'N', 'N', 'N', 'N', 'C', 'N', 'C', 'N', 'N', 'N', 'N', 'N', 'N', 'N', 'N', 'N', 'N', 'B', 'E', 'N', 'N', 'N', 'N', 'N', 'N', 'N', 'N', 'N']\n",
      "epoch: 3 , batch: 1000, batch_loss: 3.0859830379486084\n",
      "Sapmle 0 :\n",
      "True label : ['N', 'N', 'N', 'N', 'N', 'N', 'N', 'N', 'N', 'N', 'N', 'N', 'N', 'N', 'N', 'N', 'N', 'N', 'N', 'N', 'N', 'N', 'N', 'N', 'N', 'N', 'N', 'N', 'N', 'N']\n",
      "Pred label : ['N', 'N', 'N', 'N', 'N', 'N', 'N', 'N', 'N', 'N', 'N', 'N', 'N', 'N', 'N', 'N', 'N', 'N', 'N', 'N', 'N', 'N', 'N', 'N', 'N', 'N', 'N', 'N', 'N', 'N']\n",
      "Sapmle 1 :\n",
      "True label : ['B', 'E', 'N', 'N', 'C', 'N', 'N', 'N', 'N', 'B', 'E', 'N', 'C', 'B', 'E', 'N', 'N', 'N', 'N', 'N', 'N', 'N', 'N', 'N', 'N', 'N', 'N', 'N', 'N', 'N']\n",
      "Pred label : ['B', 'E', 'N', 'N', 'C', 'N', 'N', 'N', 'N', 'B', 'E', 'N', 'C', 'N', 'N', 'N', 'N', 'N', 'N', 'N', 'N', 'N', 'N', 'N', 'N', 'N', 'N', 'N', 'N', 'N']\n",
      "epoch: 3 , batch: 1500, batch_loss: 4.260101318359375\n",
      "Sapmle 0 :\n",
      "True label : ['N', 'N', 'B', 'E', 'N', 'N', 'N', 'N', 'N', 'N', 'N', 'N', 'N', 'N', 'N', 'N', 'N', 'N', 'N', 'B', 'E', 'N', 'N', 'N', 'N', 'N', 'N', 'N', 'N', 'N']\n",
      "Pred label : ['N', 'N', 'B', 'E', 'N', 'N', 'N', 'N', 'N', 'N', 'N', 'N', 'N', 'N', 'B', 'E', 'N', 'N', 'N', 'N', 'N', 'N', 'N', 'N', 'N', 'N', 'N', 'N', 'N', 'N']\n",
      "Sapmle 1 :\n",
      "True label : ['N', 'N', 'B', 'E', 'N', 'N', 'N', 'N', 'N', 'N', 'N', 'N', 'N', 'N', 'N', 'N', 'N', 'N', 'N', 'N', 'N', 'N', 'N', 'N', 'N', 'N', 'N', 'N', 'N', 'N']\n",
      "Pred label : ['N', 'N', 'B', 'E', 'N', 'N', 'N', 'N', 'N', 'N', 'N', 'N', 'N', 'N', 'N', 'N', 'N', 'N', 'N', 'N', 'N', 'N', 'N', 'N', 'N', 'N', 'N', 'N', 'N', 'N']\n",
      "epoch: 3 , epoch_loss: 3.423825000179365\n",
      "TrainData:  P: 0.9605787934661392, R: 0.9605787934661392, F: 0.9605787934661392\n",
      "-----------------------------------------------------\n",
      "epoch: 4 , batch: 0, batch_loss: 3.052973985671997\n",
      "Sapmle 0 :\n",
      "True label : ['N', 'N', 'N', 'N', 'N', 'N', 'N', 'N', 'N', 'N', 'N', 'N', 'N', 'N', 'N', 'N', 'N', 'N', 'N', 'N', 'N', 'N', 'N', 'N', 'N', 'N', 'N', 'N', 'N', 'N']\n",
      "Pred label : ['N', 'N', 'N', 'N', 'N', 'N', 'N', 'N', 'N', 'N', 'N', 'N', 'N', 'N', 'N', 'N', 'N', 'N', 'N', 'N', 'N', 'N', 'N', 'N', 'N', 'N', 'N', 'N', 'N', 'N']\n",
      "Sapmle 1 :\n",
      "True label : ['N', 'C', 'N', 'N', 'N', 'B', 'E', 'N', 'N', 'N', 'N', 'N', 'N', 'N', 'N', 'B', 'E', 'N', 'N', 'N', 'N', 'N', 'N', 'N', 'N', 'N', 'N', 'N', 'N', 'N']\n",
      "Pred label : ['N', 'C', 'N', 'N', 'N', 'B', 'E', 'N', 'N', 'N', 'N', 'N', 'N', 'N', 'N', 'B', 'E', 'N', 'N', 'N', 'N', 'N', 'N', 'N', 'N', 'N', 'N', 'N', 'N', 'N']\n",
      "epoch: 4 , batch: 500, batch_loss: 2.830498695373535\n",
      "Sapmle 0 :\n",
      "True label : ['C', 'N', 'N', 'C', 'C', 'C', 'N', 'B', 'E', 'C', 'N', 'N', 'N', 'N', 'C', 'N', 'N', 'N', 'C', 'N', 'C', 'N', 'N', 'N', 'N', 'C', 'C', 'N', 'N', 'N']\n",
      "Pred label : ['C', 'N', 'N', 'C', 'C', 'C', 'N', 'B', 'E', 'C', 'N', 'N', 'N', 'N', 'C', 'N', 'N', 'N', 'C', 'N', 'C', 'N', 'N', 'N', 'N', 'C', 'C', 'N', 'N', 'N']\n",
      "Sapmle 1 :\n",
      "True label : ['N', 'N', 'N', 'B', 'I', 'E', 'N', 'N', 'N', 'N', 'N', 'N', 'N', 'N', 'N', 'N', 'N', 'N', 'N', 'N', 'N', 'N', 'N', 'N', 'N', 'N', 'N', 'N', 'N', 'N']\n",
      "Pred label : ['N', 'N', 'N', 'B', 'I', 'E', 'N', 'N', 'N', 'N', 'N', 'N', 'N', 'N', 'N', 'N', 'N', 'N', 'N', 'N', 'N', 'N', 'N', 'N', 'N', 'E', 'N', 'N', 'N', 'N']\n",
      "epoch: 4 , batch: 1000, batch_loss: 2.885089159011841\n",
      "Sapmle 0 :\n",
      "True label : ['N', 'N', 'B', 'E', 'C', 'N', 'N', 'C', 'N', 'N', 'C', 'B', 'E', 'N', 'N', 'N', 'N', 'N', 'N', 'N', 'N', 'N', 'B', 'E', 'N', 'N', 'N', 'N', 'N', 'N']\n",
      "Pred label : ['N', 'N', 'N', 'E', 'C', 'N', 'N', 'C', 'N', 'N', 'C', 'B', 'E', 'N', 'N', 'N', 'N', 'N', 'N', 'N', 'N', 'N', 'N', 'E', 'N', 'N', 'N', 'N', 'N', 'N']\n",
      "Sapmle 1 :\n",
      "True label : ['N', 'N', 'N', 'N', 'N', 'N', 'N', 'N', 'N', 'N', 'N', 'N', 'N', 'N', 'N', 'N', 'N', 'N', 'N', 'N', 'N', 'N', 'N', 'N', 'N', 'N', 'N', 'N', 'N', 'N']\n",
      "Pred label : ['N', 'N', 'N', 'N', 'N', 'N', 'N', 'N', 'N', 'N', 'N', 'N', 'N', 'N', 'N', 'N', 'N', 'N', 'N', 'N', 'N', 'N', 'N', 'N', 'N', 'N', 'N', 'N', 'N', 'N']\n",
      "epoch: 4 , batch: 1500, batch_loss: 3.7821197509765625\n",
      "Sapmle 0 :\n",
      "True label : ['N', 'N', 'N', 'N', 'N', 'N', 'N', 'N', 'N', 'N', 'N', 'N', 'N', 'N', 'N', 'N', 'N', 'N', 'N', 'N', 'N', 'N', 'N', 'N', 'N', 'N', 'N', 'N', 'N', 'N']\n",
      "Pred label : ['N', 'N', 'N', 'N', 'N', 'N', 'N', 'N', 'N', 'N', 'N', 'N', 'N', 'N', 'N', 'N', 'N', 'N', 'N', 'N', 'N', 'N', 'N', 'N', 'N', 'N', 'N', 'N', 'N', 'N']\n",
      "Sapmle 1 :\n",
      "True label : ['B', 'E', 'N', 'C', 'N', 'C', 'N', 'B', 'E', 'N', 'N', 'N', 'N', 'N', 'E', 'C', 'N', 'C', 'N', 'N', 'N', 'B', 'I', 'E', 'N', 'N', 'N', 'N', 'N', 'N']\n",
      "Pred label : ['B', 'E', 'N', 'C', 'N', 'C', 'N', 'B', 'E', 'N', 'N', 'N', 'N', 'N', 'E', 'C', 'N', 'C', 'N', 'N', 'N', 'B', 'E', 'E', 'N', 'N', 'N', 'N', 'N', 'N']\n",
      "epoch: 4 , epoch_loss: 3.220473169700363\n",
      "TrainData:  P: 0.962679788878751, R: 0.962679788878751, F: 0.962679788878751\n",
      "-----------------------------------------------------\n",
      "epoch: 5 , batch: 0, batch_loss: 3.535553455352783\n",
      "Sapmle 0 :\n",
      "True label : ['C', 'N', 'N', 'N', 'N', 'N', 'N', 'N', 'N', 'N', 'N', 'N', 'N', 'N', 'N', 'N', 'N', 'N', 'N', 'N', 'N', 'N', 'N', 'N', 'N', 'N', 'N', 'N', 'N', 'N']\n",
      "Pred label : ['C', 'N', 'N', 'N', 'N', 'N', 'N', 'N', 'N', 'N', 'N', 'N', 'N', 'N', 'N', 'N', 'N', 'N', 'N', 'N', 'N', 'N', 'N', 'N', 'N', 'N', 'N', 'N', 'N', 'N']\n",
      "Sapmle 1 :\n",
      "True label : ['N', 'N', 'N', 'C', 'C', 'N', 'N', 'N', 'N', 'N', 'N', 'N', 'N', 'N', 'N', 'N', 'N', 'N', 'N', 'N', 'N', 'N', 'N', 'N', 'N', 'N', 'N', 'N', 'N', 'N']\n",
      "Pred label : ['N', 'N', 'N', 'C', 'C', 'N', 'N', 'N', 'N', 'N', 'N', 'N', 'N', 'N', 'N', 'N', 'N', 'N', 'N', 'N', 'N', 'N', 'N', 'N', 'N', 'N', 'N', 'N', 'N', 'N']\n",
      "epoch: 5 , batch: 500, batch_loss: 3.726027727127075\n",
      "Sapmle 0 :\n",
      "True label : ['N', 'N', 'N', 'N', 'N', 'N', 'N', 'N', 'N', 'N', 'N', 'N', 'N', 'N', 'N', 'N', 'C', 'N', 'N', 'N', 'N', 'N', 'N', 'N', 'N', 'N', 'N', 'N', 'N', 'N']\n",
      "Pred label : ['N', 'N', 'N', 'N', 'N', 'N', 'N', 'N', 'N', 'N', 'N', 'N', 'N', 'N', 'N', 'N', 'C', 'N', 'N', 'N', 'N', 'N', 'N', 'N', 'N', 'N', 'N', 'N', 'N', 'N']\n",
      "Sapmle 1 :\n",
      "True label : ['N', 'N', 'N', 'C', 'N', 'C', 'N', 'N', 'N', 'N', 'N', 'N', 'N', 'N', 'N', 'N', 'N', 'N', 'N', 'N', 'N', 'N', 'N', 'N', 'N', 'N', 'N', 'N', 'N', 'N']\n",
      "Pred label : ['N', 'N', 'N', 'C', 'N', 'C', 'N', 'N', 'N', 'N', 'N', 'N', 'N', 'N', 'N', 'N', 'N', 'N', 'N', 'N', 'N', 'N', 'N', 'N', 'N', 'N', 'N', 'N', 'N', 'N']\n"
     ]
    },
    {
     "name": "stdout",
     "output_type": "stream",
     "text": [
      "epoch: 5 , batch: 1000, batch_loss: 3.279947519302368\n",
      "Sapmle 0 :\n",
      "True label : ['N', 'N', 'N', 'N', 'N', 'C', 'C', 'B', 'E', 'N', 'B', 'E', 'N', 'N', 'C', 'N', 'N', 'N', 'N', 'N', 'N', 'N', 'N', 'N', 'N', 'N', 'N', 'N', 'N', 'N']\n",
      "Pred label : ['N', 'N', 'N', 'N', 'N', 'C', 'C', 'B', 'E', 'B', 'B', 'E', 'N', 'N', 'C', 'N', 'N', 'N', 'N', 'N', 'N', 'N', 'N', 'N', 'N', 'N', 'N', 'N', 'N', 'N']\n",
      "Sapmle 1 :\n",
      "True label : ['N', 'N', 'N', 'N', 'C', 'N', 'N', 'C', 'N', 'N', 'N', 'N', 'N', 'N', 'N', 'N', 'N', 'N', 'N', 'N', 'N', 'N', 'N', 'N', 'N', 'N', 'N', 'N', 'N', 'N']\n",
      "Pred label : ['N', 'N', 'N', 'N', 'C', 'N', 'N', 'C', 'N', 'N', 'N', 'N', 'N', 'N', 'N', 'N', 'N', 'N', 'N', 'N', 'N', 'N', 'N', 'N', 'N', 'N', 'N', 'N', 'N', 'N']\n",
      "epoch: 5 , batch: 1500, batch_loss: 2.8479771614074707\n",
      "Sapmle 0 :\n",
      "True label : ['N', 'N', 'N', 'N', 'N', 'N', 'N', 'N', 'B', 'E', 'N', 'N', 'N', 'N', 'B', 'E', 'N', 'N', 'N', 'N', 'N', 'N', 'N', 'N', 'N', 'N', 'N', 'N', 'N', 'N']\n",
      "Pred label : ['N', 'N', 'N', 'N', 'N', 'N', 'N', 'N', 'N', 'N', 'N', 'N', 'N', 'N', 'B', 'E', 'N', 'N', 'N', 'N', 'N', 'N', 'N', 'N', 'N', 'N', 'N', 'N', 'N', 'N']\n",
      "Sapmle 1 :\n",
      "True label : ['N', 'N', 'N', 'N', 'N', 'N', 'N', 'N', 'N', 'N', 'N', 'N', 'N', 'N', 'N', 'N', 'N', 'N', 'N', 'N', 'N', 'N', 'N', 'N', 'N', 'N', 'N', 'N', 'N', 'N']\n",
      "Pred label : ['N', 'N', 'N', 'N', 'N', 'N', 'N', 'N', 'N', 'N', 'N', 'N', 'N', 'N', 'N', 'N', 'N', 'N', 'N', 'N', 'N', 'N', 'N', 'N', 'N', 'N', 'N', 'N', 'N', 'N']\n",
      "epoch: 5 , epoch_loss: 3.081573119563778\n",
      "TrainData:  P: 0.9641780559357261, R: 0.9641780559357261, F: 0.9641780559357261\n",
      "-----------------------------------------------------\n",
      "epoch: 6 , batch: 0, batch_loss: 3.035921335220337\n",
      "Sapmle 0 :\n",
      "True label : ['N', 'N', 'N', 'N', 'N', 'N', 'N', 'C', 'N', 'N', 'C', 'N', 'N', 'N', 'N', 'N', 'N', 'B', 'N', 'N', 'N', 'N', 'N', 'N', 'N', 'N', 'N', 'N', 'N', 'N']\n",
      "Pred label : ['N', 'N', 'N', 'N', 'N', 'N', 'N', 'C', 'N', 'N', 'C', 'N', 'N', 'N', 'N', 'N', 'N', 'B', 'N', 'N', 'N', 'N', 'N', 'N', 'N', 'N', 'N', 'N', 'N', 'N']\n",
      "Sapmle 1 :\n",
      "True label : ['N', 'N', 'C', 'N', 'N', 'N', 'N', 'N', 'N', 'N', 'N', 'N', 'N', 'N', 'N', 'N', 'N', 'N', 'N', 'N', 'N', 'N', 'N', 'N', 'N', 'N', 'N', 'N', 'N', 'N']\n",
      "Pred label : ['N', 'N', 'C', 'N', 'N', 'N', 'N', 'N', 'N', 'N', 'N', 'N', 'N', 'N', 'N', 'N', 'N', 'N', 'N', 'N', 'N', 'N', 'N', 'N', 'N', 'N', 'N', 'N', 'N', 'N']\n",
      "epoch: 6 , batch: 500, batch_loss: 3.666349172592163\n",
      "Sapmle 0 :\n",
      "True label : ['B', 'E', 'N', 'N', 'N', 'N', 'N', 'N', 'N', 'N', 'N', 'N', 'N', 'N', 'N', 'N', 'N', 'N', 'N', 'N', 'N', 'N', 'N', 'N', 'N', 'N', 'N', 'N', 'N', 'N']\n",
      "Pred label : ['E', 'E', 'N', 'N', 'N', 'N', 'N', 'N', 'N', 'N', 'N', 'N', 'N', 'N', 'N', 'N', 'N', 'N', 'N', 'N', 'N', 'N', 'N', 'N', 'N', 'N', 'N', 'N', 'N', 'N']\n",
      "Sapmle 1 :\n",
      "True label : ['N', 'N', 'N', 'N', 'N', 'N', 'N', 'N', 'N', 'N', 'N', 'N', 'N', 'N', 'N', 'N', 'N', 'N', 'N', 'N', 'N', 'N', 'N', 'N', 'N', 'N', 'N', 'N', 'N', 'N']\n",
      "Pred label : ['N', 'N', 'N', 'N', 'N', 'N', 'N', 'N', 'N', 'N', 'N', 'N', 'N', 'N', 'N', 'N', 'N', 'N', 'N', 'N', 'N', 'N', 'N', 'N', 'N', 'N', 'N', 'N', 'N', 'N']\n",
      "epoch: 6 , batch: 1000, batch_loss: 3.16123628616333\n",
      "Sapmle 0 :\n",
      "True label : ['B', 'E', 'C', 'N', 'C', 'N', 'B', 'I', 'E', 'N', 'C', 'N', 'C', 'N', 'N', 'N', 'N', 'N', 'N', 'C', 'N', 'B', 'E', 'N', 'N', 'N', 'C', 'N', 'B', 'E']\n",
      "Pred label : ['B', 'E', 'C', 'N', 'C', 'N', 'B', 'I', 'E', 'N', 'C', 'N', 'C', 'N', 'N', 'N', 'N', 'N', 'N', 'C', 'N', 'B', 'E', 'N', 'N', 'N', 'C', 'N', 'N', 'N']\n",
      "Sapmle 1 :\n",
      "True label : ['N', 'N', 'N', 'N', 'N', 'N', 'B', 'E', 'N', 'B', 'E', 'N', 'N', 'N', 'N', 'N', 'N', 'N', 'N', 'B', 'E', 'N', 'C', 'N', 'N', 'N', 'N', 'N', 'N', 'C']\n",
      "Pred label : ['N', 'N', 'N', 'N', 'N', 'N', 'N', 'E', 'N', 'N', 'E', 'N', 'N', 'N', 'N', 'N', 'N', 'N', 'N', 'B', 'E', 'N', 'C', 'N', 'N', 'N', 'N', 'N', 'N', 'N']\n",
      "epoch: 6 , batch: 1500, batch_loss: 3.394221544265747\n",
      "Sapmle 0 :\n",
      "True label : ['N', 'N', 'N', 'B', 'E', 'N', 'N', 'N', 'N', 'N', 'N', 'E', 'N', 'N', 'N', 'N', 'N', 'N', 'N', 'N', 'N', 'N', 'N', 'N', 'N', 'N', 'N', 'N', 'N', 'N']\n",
      "Pred label : ['N', 'N', 'N', 'B', 'E', 'N', 'N', 'N', 'N', 'N', 'N', 'N', 'N', 'N', 'N', 'N', 'N', 'N', 'N', 'N', 'N', 'N', 'N', 'N', 'N', 'N', 'N', 'N', 'N', 'N']\n",
      "Sapmle 1 :\n",
      "True label : ['N', 'N', 'N', 'N', 'N', 'N', 'N', 'N', 'N', 'N', 'N', 'N', 'N', 'N', 'N', 'N', 'N', 'N', 'N', 'N', 'N', 'N', 'N', 'N', 'N', 'N', 'N', 'N', 'N', 'N']\n",
      "Pred label : ['N', 'N', 'N', 'N', 'N', 'N', 'N', 'N', 'N', 'N', 'N', 'N', 'N', 'N', 'N', 'N', 'N', 'N', 'N', 'N', 'N', 'N', 'N', 'N', 'N', 'N', 'N', 'N', 'N', 'N']\n",
      "epoch: 6 , epoch_loss: 2.9694222062463598\n",
      "TrainData:  P: 0.9653447035938773, R: 0.9653447035938773, F: 0.9653447035938773\n",
      "-----------------------------------------------------\n",
      "epoch: 7 , batch: 0, batch_loss: 3.154597759246826\n",
      "Sapmle 0 :\n",
      "True label : ['C', 'N', 'N', 'N', 'N', 'N', 'N', 'B', 'E', 'N', 'N', 'N', 'N', 'N', 'N', 'N', 'N', 'N', 'N', 'N', 'N', 'N', 'N', 'N', 'N', 'N', 'N', 'N', 'N', 'N']\n",
      "Pred label : ['C', 'N', 'N', 'N', 'N', 'N', 'N', 'B', 'E', 'N', 'N', 'N', 'N', 'N', 'N', 'N', 'N', 'N', 'N', 'N', 'N', 'N', 'N', 'N', 'N', 'N', 'N', 'N', 'N', 'N']\n",
      "Sapmle 1 :\n",
      "True label : ['N', 'N', 'N', 'B', 'E', 'N', 'N', 'N', 'N', 'N', 'N', 'N', 'N', 'N', 'N', 'N', 'N', 'N', 'N', 'N', 'N', 'N', 'N', 'N', 'N', 'N', 'N', 'N', 'N', 'N']\n",
      "Pred label : ['N', 'N', 'N', 'N', 'E', 'N', 'N', 'N', 'N', 'N', 'N', 'N', 'N', 'N', 'N', 'N', 'N', 'N', 'N', 'N', 'N', 'N', 'N', 'N', 'N', 'N', 'N', 'N', 'N', 'N']\n",
      "epoch: 7 , batch: 500, batch_loss: 2.8415262699127197\n",
      "Sapmle 0 :\n",
      "True label : ['C', 'B', 'I', 'E', 'N', 'N', 'C', 'N', 'N', 'N', 'B', 'I', 'E', 'N', 'N', 'N', 'C', 'N', 'N', 'N', 'C', 'C', 'N', 'N', 'N', 'C', 'N', 'N', 'B', 'E']\n",
      "Pred label : ['C', 'B', 'I', 'E', 'N', 'N', 'C', 'N', 'N', 'N', 'B', 'I', 'E', 'N', 'N', 'N', 'C', 'N', 'N', 'N', 'C', 'C', 'N', 'N', 'N', 'C', 'N', 'N', 'C', 'E']\n",
      "Sapmle 1 :\n",
      "True label : ['N', 'N', 'N', 'N', 'N', 'N', 'N', 'N', 'N', 'N', 'N', 'N', 'I', 'N', 'B', 'E', 'N', 'N', 'N', 'N', 'N', 'N', 'N', 'B', 'E', 'N', 'N', 'N', 'N', 'N']\n",
      "Pred label : ['N', 'N', 'N', 'N', 'N', 'N', 'N', 'N', 'N', 'N', 'N', 'N', 'N', 'N', 'B', 'E', 'N', 'N', 'N', 'N', 'N', 'N', 'N', 'B', 'E', 'N', 'N', 'N', 'N', 'N']\n",
      "epoch: 7 , batch: 1000, batch_loss: 2.8758633136749268\n",
      "Sapmle 0 :\n",
      "True label : ['C', 'B', 'I', 'I', 'E', 'N', 'N', 'B', 'E', 'N', 'N', 'N', 'N', 'N', 'N', 'N', 'N', 'N', 'B', 'E', 'N', 'N', 'B', 'E', 'N', 'N', 'N', 'B', 'E', 'N']\n",
      "Pred label : ['C', 'B', 'I', 'I', 'E', 'N', 'N', 'C', 'E', 'N', 'N', 'N', 'N', 'N', 'N', 'N', 'N', 'N', 'B', 'N', 'N', 'N', 'B', 'E', 'N', 'N', 'N', 'B', 'E', 'E']\n",
      "Sapmle 1 :\n",
      "True label : ['N', 'C', 'N', 'N', 'N', 'N', 'N', 'N', 'N', 'N', 'N', 'N', 'B', 'E', 'N', 'N', 'N', 'N', 'N', 'C', 'N', 'N', 'N', 'N', 'N', 'N', 'N', 'C', 'N', 'N']\n",
      "Pred label : ['N', 'C', 'N', 'N', 'N', 'N', 'N', 'N', 'N', 'N', 'N', 'N', 'B', 'E', 'N', 'N', 'N', 'N', 'N', 'C', 'N', 'N', 'N', 'N', 'N', 'N', 'N', 'C', 'N', 'N']\n",
      "epoch: 7 , batch: 1500, batch_loss: 3.0440194606781006\n",
      "Sapmle 0 :\n",
      "True label : ['C', 'C', 'N', 'N', 'N', 'N', 'N', 'N', 'N', 'N', 'N', 'N', 'N', 'N', 'N', 'N', 'N', 'N', 'N', 'N', 'N', 'N', 'N', 'N', 'N', 'N', 'N', 'N', 'N', 'N']\n",
      "Pred label : ['C', 'C', 'N', 'N', 'N', 'N', 'N', 'N', 'N', 'N', 'N', 'N', 'N', 'N', 'N', 'N', 'N', 'N', 'N', 'N', 'N', 'N', 'N', 'N', 'N', 'N', 'N', 'N', 'N', 'N']\n",
      "Sapmle 1 :\n",
      "True label : ['C', 'N', 'C', 'N', 'N', 'N', 'N', 'N', 'N', 'N', 'N', 'N', 'N', 'N', 'N', 'N', 'N', 'N', 'N', 'N', 'N', 'N', 'N', 'N', 'N', 'N', 'B', 'E', 'N', 'N']\n",
      "Pred label : ['C', 'N', 'C', 'N', 'N', 'N', 'N', 'N', 'N', 'N', 'N', 'N', 'N', 'N', 'N', 'N', 'N', 'N', 'N', 'N', 'N', 'N', 'N', 'N', 'N', 'N', 'B', 'E', 'N', 'N']\n",
      "epoch: 7 , epoch_loss: 2.885960833724688\n",
      "TrainData:  P: 0.9661721284468764, R: 0.9661721284468764, F: 0.9661721284468764\n",
      "-----------------------------------------------------\n",
      "epoch: 8 , batch: 0, batch_loss: 2.4980900287628174\n",
      "Sapmle 0 :\n",
      "True label : ['N', 'N', 'N', 'N', 'N', 'N', 'N', 'N', 'N', 'B', 'E', 'C', 'N', 'N', 'N', 'N', 'B', 'E', 'N', 'N', 'N', 'N', 'N', 'B', 'E', 'N', 'B', 'E', 'N', 'N']\n",
      "Pred label : ['N', 'N', 'N', 'N', 'N', 'N', 'N', 'E', 'N', 'N', 'N', 'C', 'N', 'N', 'N', 'N', 'N', 'E', 'N', 'N', 'N', 'N', 'N', 'B', 'E', 'N', 'N', 'N', 'N', 'N']\n",
      "Sapmle 1 :\n",
      "True label : ['B', 'E', 'B', 'E', 'N', 'N', 'N', 'N', 'N', 'N', 'N', 'N', 'N', 'N', 'N', 'N', 'N', 'N', 'N', 'N', 'N', 'N', 'N', 'N', 'N', 'N', 'N', 'N', 'N', 'N']\n",
      "Pred label : ['B', 'E', 'B', 'E', 'N', 'N', 'N', 'N', 'N', 'N', 'N', 'N', 'N', 'N', 'N', 'N', 'N', 'N', 'N', 'N', 'N', 'N', 'N', 'N', 'N', 'N', 'N', 'N', 'N', 'N']\n"
     ]
    },
    {
     "name": "stdout",
     "output_type": "stream",
     "text": [
      "epoch: 8 , batch: 500, batch_loss: 2.5189945697784424\n",
      "Sapmle 0 :\n",
      "True label : ['B', 'E', 'N', 'N', 'N', 'N', 'N', 'N', 'N', 'N', 'N', 'N', 'N', 'N', 'N', 'N', 'N', 'N', 'N', 'N', 'N', 'N', 'N', 'N', 'N', 'N', 'N', 'N', 'N', 'N']\n",
      "Pred label : ['B', 'N', 'N', 'N', 'N', 'N', 'N', 'N', 'N', 'N', 'N', 'N', 'N', 'N', 'N', 'N', 'N', 'N', 'N', 'N', 'N', 'N', 'N', 'N', 'N', 'N', 'N', 'N', 'N', 'N']\n",
      "Sapmle 1 :\n",
      "True label : ['B', 'E', 'N', 'C', 'N', 'N', 'N', 'N', 'N', 'N', 'N', 'C', 'N', 'N', 'N', 'N', 'N', 'N', 'N', 'N', 'N', 'N', 'N', 'N', 'N', 'N', 'N', 'N', 'N', 'N']\n",
      "Pred label : ['B', 'E', 'N', 'C', 'N', 'N', 'N', 'N', 'N', 'N', 'N', 'C', 'N', 'N', 'N', 'N', 'N', 'N', 'N', 'N', 'N', 'N', 'N', 'N', 'N', 'N', 'N', 'N', 'N', 'N']\n",
      "epoch: 8 , batch: 1000, batch_loss: 3.593825340270996\n",
      "Sapmle 0 :\n",
      "True label : ['N', 'N', 'N', 'N', 'B', 'E', 'N', 'N', 'N', 'B', 'I', 'I', 'E', 'N', 'C', 'C', 'N', 'N', 'N', 'N', 'B', 'I', 'E', 'N', 'B', 'E', 'N', 'N', 'N', 'N']\n",
      "Pred label : ['N', 'N', 'N', 'N', 'B', 'E', 'N', 'N', 'N', 'B', 'I', 'I', 'E', 'N', 'C', 'C', 'N', 'N', 'N', 'N', 'B', 'I', 'E', 'N', 'B', 'E', 'N', 'N', 'N', 'N']\n",
      "Sapmle 1 :\n",
      "True label : ['N', 'N', 'N', 'N', 'N', 'N', 'N', 'N', 'B', 'E', 'N', 'N', 'N', 'N', 'N', 'N', 'N', 'N', 'N', 'N', 'N', 'N', 'N', 'N', 'N', 'N', 'N', 'N', 'B', 'E']\n",
      "Pred label : ['N', 'N', 'N', 'N', 'N', 'N', 'N', 'N', 'B', 'E', 'N', 'N', 'N', 'N', 'N', 'N', 'N', 'N', 'N', 'N', 'N', 'N', 'N', 'N', 'N', 'N', 'N', 'N', 'N', 'N']\n",
      "epoch: 8 , batch: 1500, batch_loss: 2.3856003284454346\n",
      "Sapmle 0 :\n",
      "True label : ['N', 'N', 'N', 'N', 'N', 'N', 'N', 'N', 'N', 'N', 'N', 'C', 'B', 'E', 'C', 'N', 'N', 'N', 'N', 'C', 'N', 'B', 'E', 'N', 'N', 'N', 'N', 'N', 'N', 'N']\n",
      "Pred label : ['N', 'N', 'N', 'N', 'N', 'E', 'N', 'N', 'N', 'N', 'N', 'C', 'B', 'E', 'C', 'N', 'N', 'N', 'N', 'C', 'N', 'B', 'E', 'N', 'N', 'N', 'N', 'N', 'N', 'N']\n",
      "Sapmle 1 :\n",
      "True label : ['C', 'C', 'B', 'E', 'N', 'N', 'C', 'C', 'C', 'N', 'C', 'B', 'E', 'N', 'N', 'N', 'N', 'N', 'N', 'B', 'E', 'N', 'B', 'E', 'N', 'C', 'N', 'N', 'N', 'N']\n",
      "Pred label : ['C', 'C', 'B', 'E', 'N', 'N', 'C', 'C', 'C', 'N', 'C', 'B', 'I', 'N', 'N', 'N', 'N', 'N', 'N', 'B', 'E', 'N', 'B', 'E', 'N', 'C', 'N', 'N', 'N', 'E']\n",
      "epoch: 8 , epoch_loss: 2.827243930884521\n",
      "TrainData:  P: 0.9668481979927008, R: 0.9668481979927008, F: 0.9668481979927008\n",
      "-----------------------------------------------------\n",
      "epoch: 9 , batch: 0, batch_loss: 2.396205186843872\n",
      "Sapmle 0 :\n",
      "True label : ['N', 'N', 'N', 'N', 'N', 'N', 'N', 'N', 'N', 'N', 'N', 'N', 'N', 'N', 'N', 'N', 'N', 'N', 'N', 'N', 'N', 'N', 'N', 'N', 'N', 'N', 'N', 'N', 'N', 'N']\n",
      "Pred label : ['N', 'N', 'N', 'N', 'N', 'N', 'N', 'N', 'N', 'N', 'N', 'N', 'N', 'N', 'N', 'N', 'N', 'N', 'N', 'N', 'N', 'N', 'N', 'N', 'N', 'N', 'N', 'N', 'N', 'N']\n",
      "Sapmle 1 :\n",
      "True label : ['N', 'N', 'N', 'C', 'N', 'N', 'B', 'E', 'N', 'N', 'N', 'N', 'N', 'N', 'N', 'N', 'N', 'N', 'N', 'N', 'N', 'N', 'N', 'N', 'N', 'N', 'N', 'N', 'N', 'N']\n",
      "Pred label : ['N', 'N', 'N', 'C', 'N', 'N', 'N', 'E', 'N', 'N', 'N', 'N', 'N', 'N', 'N', 'N', 'N', 'N', 'N', 'N', 'N', 'N', 'N', 'N', 'N', 'N', 'N', 'N', 'N', 'N']\n",
      "epoch: 9 , batch: 500, batch_loss: 2.8519351482391357\n",
      "Sapmle 0 :\n",
      "True label : ['N', 'N', 'N', 'N', 'N', 'N', 'N', 'N', 'N', 'N', 'N', 'N', 'N', 'N', 'N', 'C', 'N', 'B', 'I', 'E', 'N', 'N', 'N', 'N', 'N', 'C', 'N', 'N', 'N', 'N']\n",
      "Pred label : ['N', 'N', 'N', 'N', 'N', 'N', 'N', 'N', 'N', 'N', 'N', 'N', 'N', 'N', 'N', 'C', 'N', 'B', 'I', 'E', 'N', 'N', 'N', 'N', 'N', 'C', 'N', 'N', 'N', 'N']\n",
      "Sapmle 1 :\n",
      "True label : ['N', 'C', 'N', 'C', 'N', 'B', 'E', 'C', 'N', 'C', 'N', 'N', 'N', 'N', 'C', 'N', 'B', 'E', 'N', 'N', 'N', 'N', 'N', 'N', 'N', 'N', 'N', 'N', 'C', 'N']\n",
      "Pred label : ['N', 'C', 'N', 'C', 'N', 'B', 'E', 'C', 'N', 'C', 'N', 'N', 'N', 'N', 'C', 'N', 'B', 'E', 'N', 'N', 'N', 'N', 'N', 'N', 'N', 'N', 'N', 'N', 'C', 'N']\n",
      "epoch: 9 , batch: 1000, batch_loss: 3.0280985832214355\n",
      "Sapmle 0 :\n",
      "True label : ['N', 'N', 'N', 'N', 'N', 'N', 'N', 'N', 'N', 'N', 'N', 'N', 'N', 'C', 'N', 'N', 'N', 'N', 'B', 'E', 'N', 'N', 'N', 'N', 'N', 'N', 'N', 'N', 'N', 'N']\n",
      "Pred label : ['N', 'N', 'N', 'N', 'N', 'N', 'N', 'N', 'N', 'N', 'N', 'N', 'N', 'C', 'N', 'N', 'N', 'N', 'N', 'E', 'N', 'N', 'N', 'N', 'N', 'N', 'N', 'N', 'N', 'N']\n",
      "Sapmle 1 :\n",
      "True label : ['N', 'N', 'B', 'E', 'N', 'N', 'N', 'N', 'N', 'N', 'N', 'N', 'N', 'N', 'N', 'N', 'N', 'N', 'N', 'N', 'N', 'N', 'N', 'N', 'N', 'N', 'N', 'N', 'N', 'N']\n",
      "Pred label : ['N', 'N', 'B', 'N', 'N', 'N', 'N', 'N', 'N', 'N', 'N', 'N', 'N', 'N', 'N', 'N', 'N', 'N', 'N', 'N', 'N', 'N', 'N', 'N', 'N', 'N', 'N', 'N', 'N', 'N']\n",
      "epoch: 9 , batch: 1500, batch_loss: 2.687319040298462\n",
      "Sapmle 0 :\n",
      "True label : ['C', 'N', 'N', 'N', 'N', 'N', 'N', 'N', 'N', 'C', 'C', 'C', 'N', 'N', 'N', 'N', 'N', 'N', 'N', 'N', 'N', 'N', 'N', 'N', 'N', 'C', 'C', 'N', 'N', 'N']\n",
      "Pred label : ['C', 'N', 'N', 'N', 'N', 'N', 'N', 'N', 'N', 'C', 'C', 'C', 'N', 'N', 'N', 'N', 'N', 'N', 'N', 'N', 'N', 'N', 'N', 'N', 'N', 'C', 'C', 'N', 'N', 'N']\n",
      "Sapmle 1 :\n",
      "True label : ['N', 'N', 'N', 'N', 'N', 'N', 'N', 'N', 'N', 'N', 'N', 'N', 'N', 'N', 'N', 'N', 'N', 'N', 'N', 'N', 'N', 'C', 'N', 'N', 'N', 'N', 'N', 'N', 'C', 'B']\n",
      "Pred label : ['N', 'N', 'N', 'N', 'N', 'N', 'N', 'E', 'N', 'N', 'N', 'N', 'N', 'N', 'N', 'N', 'N', 'N', 'N', 'N', 'N', 'C', 'N', 'N', 'N', 'N', 'N', 'E', 'C', 'N']\n",
      "epoch: 9 , epoch_loss: 2.7699523495641647\n",
      "TrainData:  P: 0.967465657948095, R: 0.967465657948095, F: 0.967465657948095\n",
      "-----------------------------------------------------\n",
      "训练结束，用时 6903.729874610901 秒\n"
     ]
    },
    {
     "data": {
      "image/png": "[encoded data removed]",
      "text/plain": [
       "<Figure size 432x288 with 1 Axes>"
      ]
     },
     "metadata": {},
     "output_type": "display_data"
    }
   ],
   "source": [
    "train(model, max_seq_len, label_one_hot, output_vocab, learning_rate, ctx)"
   ]
  },
  {
   "cell_type": "markdown",
   "metadata": {},
   "source": [
    "## 定义测试函数，并在测试集上测试训练好的模型"
   ]
  },
  {
   "cell_type": "code",
   "execution_count": 21,
   "metadata": {},
   "outputs": [],
   "source": [
    "def test(model, data_iter_test, test_batch_size, label_one_hot, output_vocab=output_vocab):\n",
    "    p = 0.0\n",
    "    r = 0.0\n",
    "    f1 = 0.0\n",
    "    \n",
    "    batch_idx = 0\n",
    "    for test_x, test_y, nature in data_iter_test:\n",
    "        batch_preds = []\n",
    "        for word_idx in range(test_x.shape[1]): \n",
    "            distance = nd.arange(test_x.shape[1], ctx=ctx) - word_idx\n",
    "            distance = distance.reshape((1, -1))\n",
    "            # batch_distance 尺寸: (test_batch_size, max_seq_length)\n",
    "            batch_distance = nd.broadcast_axis(distance, axis=0, size=test_batch_size)                    \n",
    "                    \n",
    "            outputs = model(test_x, nature, batch_distance)\n",
    "            # preds 代表一个 batch 的第 word_idx 的词的输出，尺寸： (test_batch_size,)\n",
    "            preds = nd.argmax(nd.softmax(outputs, axis=1), axis=1)\n",
    "                    \n",
    "            # 扩展preds 为（test_batch_size, 1) 并添加入列表\n",
    "            batch_preds.append(nd.expand_dims(preds, axis=1)) \n",
    "            \n",
    "        batch_preds = nd.concat(*batch_preds, dim=1)\n",
    "        batch_p, batch_r, batch_f1 = cal_scores(batch_preds.asnumpy(), test_y.asnumpy())\n",
    "#         print(\"batch_test_label: \", output_vocab.idx_to_token)      \n",
    "#         print(\"batch_Precision : \", batch_p)\n",
    "#         print(\"batch_Recall    : \", batch_r)\n",
    "#         print(\"batch_F1        : \", batch_f1)\n",
    "        batch_idx += 1\n",
    "        p += batch_p\n",
    "        r += batch_r\n",
    "        f1 += batch_f1\n",
    "        \n",
    "    p /= batch_idx\n",
    "    r /= batch_idx\n",
    "    f1 /= batch_idx     \n",
    "    print(\"Precision : \", p)\n",
    "    print(\"Recall    : \", r)\n",
    "    print(\"F1        : \", f1)"
   ]
  },
  {
   "cell_type": "code",
   "execution_count": 22,
   "metadata": {},
   "outputs": [],
   "source": [
    "test_batch_size = batch_size\n",
    "dataset_test = gluon.data.ArrayDataset(nd.array(X_test, ctx=ctx), nd.array(Y_test, ctx=ctx), nd.array(nature_test, ctx=ctx))\n",
    "data_iter_test = gluon.data.DataLoader(dataset_test, batch_size, shuffle=True, last_batch='discard')"
   ]
  },
  {
   "cell_type": "code",
   "execution_count": 23,
   "metadata": {},
   "outputs": [
    {
     "name": "stdout",
     "output_type": "stream",
     "text": [
      "Precision :  0.9603061868686869\n",
      "Recall    :  0.9603061868686869\n",
      "F1        :  0.9603061868686869\n"
     ]
    }
   ],
   "source": [
    "test(model, data_iter_test, test_batch_size, label_one_hot)"
   ]
  },
  {
   "cell_type": "code",
   "execution_count": null,
   "metadata": {},
   "outputs": [],
   "source": []
  }
 ],
 "metadata": {
  "kernelspec": {
   "display_name": "Python 3",
   "language": "python",
   "name": "python3"
  },
  "language_info": {
   "codemirror_mode": {
    "name": "ipython",
    "version": 3
   },
   "file_extension": ".py",
   "mimetype": "text/x-python",
   "name": "python",
   "nbconvert_exporter": "python",
   "pygments_lexer": "ipython3",
   "version": "3.6.4"
  }
 },
 "nbformat": 4,
 "nbformat_minor": 2
}
